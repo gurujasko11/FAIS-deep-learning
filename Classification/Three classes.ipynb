{
 "cells": [
  {
   "cell_type": "markdown",
   "metadata": {},
   "source": [
    "# Created by Diana Janik and Jan Markiewicz"
   ]
  },
  {
   "cell_type": "code",
   "execution_count": 1,
   "metadata": {},
   "outputs": [],
   "source": [
    "import numpy as np\n",
    "import pandas as pd\n",
    "from PIL import Image\n",
    "import matplotlib.pyplot as plt\n",
    "import torch\n",
    "import torch.nn as nn\n",
    "from torch.autograd import Variable\n",
    "import torch.utils.data as data"
   ]
  },
  {
   "cell_type": "code",
   "execution_count": 2,
   "metadata": {},
   "outputs": [],
   "source": [
    "x = np.load('classification_problem.npy')\n",
    "y = []\n",
    "class1 = np.array([1.,0.,0.])\n",
    "class1 = np.tile(class1, (1000, 1))\n",
    "y.extend(class1)\n",
    "class2 = np.array([0.,1.,0.])\n",
    "class2 = np.tile(class2, (1000, 1))\n",
    "y.extend(class2)\n",
    "class3 = np.array([0.,0.,1.])\n",
    "class3 = np.tile(class3, (1000, 1))\n",
    "y.extend(class3)\n",
    "y = np.asarray(y)\n",
    "y = y.astype(np.float32)\n",
    "y = y[..., np.newaxis]"
   ]
  },
  {
   "cell_type": "code",
   "execution_count": 3,
   "metadata": {
    "scrolled": true
   },
   "outputs": [
    {
     "name": "stdout",
     "output_type": "stream",
     "text": [
      "(3000, 12)\n",
      "[[ 983.99054  942.2865   661.72797 ...  372.1592   721.33167  573.65985]\n",
      " [ 977.8995   943.00995  660.28    ...  358.53558  717.0906   515.003  ]\n",
      " [ 997.3773   943.70807  663.5131  ...  349.9904   668.514    501.89447]\n",
      " ...\n",
      " [1053.4028   943.90314  654.8272  ...  353.91534  699.50146  514.19226]\n",
      " [1055.4299   942.15045  660.39075 ...  356.51056  706.0399   562.4285 ]\n",
      " [1023.4271   940.56964  663.16327 ...  349.66464  737.87274  586.15576]]\n"
     ]
    }
   ],
   "source": [
    "print(x.shape)\n",
    "print(x)"
   ]
  },
  {
   "cell_type": "code",
   "execution_count": 4,
   "metadata": {
    "scrolled": false
   },
   "outputs": [
    {
     "name": "stdout",
     "output_type": "stream",
     "text": [
      "(3000, 3, 1)\n",
      "(3000, 3)\n"
     ]
    }
   ],
   "source": [
    "print(y.shape)\n",
    "y = np.squeeze(y)\n",
    "print(y.shape)"
   ]
  },
  {
   "cell_type": "code",
   "execution_count": 6,
   "metadata": {},
   "outputs": [
    {
     "name": "stdout",
     "output_type": "stream",
     "text": [
      "[[983.9905395507812 942.2864990234375 661.7279663085938 ... 1.0 0.0 0.0]\n",
      " [977.8994750976562 943.0099487304688 660.280029296875 ... 1.0 0.0 0.0]\n",
      " [997.3773193359375 943.7080688476562 663.5131225585938 ... 1.0 0.0 0.0]\n",
      " ...\n",
      " [1053.40283203125 943.9031372070312 654.8272094726562 ... 0.0 0.0 1.0]\n",
      " [1055.429931640625 942.1504516601562 660.3907470703125 ... 0.0 0.0 1.0]\n",
      " [1023.4271240234375 940.5696411132812 663.1632690429688 ... 0.0 0.0 1.0]]\n"
     ]
    }
   ],
   "source": [
    "values_with_labels = np.empty((3000,0), dtype=np.object)\n",
    "values_with_labels = np.append(values_with_labels, np.array(x), axis=1)\n",
    "values_with_labels = np.append(values_with_labels, np.array(y), axis=1)\n",
    "print(values_with_labels)\n",
    "pd.DataFrame(values_with_labels).to_csv('data.csv',index=False)"
   ]
  },
  {
   "cell_type": "code",
   "execution_count": 8,
   "metadata": {},
   "outputs": [],
   "source": [
    "import torch.nn.functional as F\n",
    "\n",
    "class Model(nn.Module):\n",
    "    def __init__(self):\n",
    "        super().__init__()\n",
    "        self.fc1 = nn.Linear(12, 120)\n",
    "        self.fc3 = nn.Linear(120, 3)\n",
    "  \n",
    "    def forward(self, x):\n",
    "        x = F.relu(self.fc1(x))\n",
    "        x = self.fc3(x)\n",
    "        return x"
   ]
  },
  {
   "cell_type": "code",
   "execution_count": 9,
   "metadata": {},
   "outputs": [],
   "source": [
    "model = Model()"
   ]
  },
  {
   "cell_type": "code",
   "execution_count": 10,
   "metadata": {},
   "outputs": [],
   "source": [
    "from torch import optim\n",
    "loss_function = nn.CrossEntropyLoss()\n",
    "optimizer = optim.SGD(model.parameters(), lr=0.05, weight_decay= 1e-6, momentum = 0.9, nesterov = True)"
   ]
  },
  {
   "cell_type": "code",
   "execution_count": 11,
   "metadata": {},
   "outputs": [],
   "source": [
    "for epoch in range(1, 11): ## run the model for 10 epochs\n",
    "    train_loss, valid_loss = [], []"
   ]
  },
  {
   "cell_type": "code",
   "execution_count": 12,
   "metadata": {},
   "outputs": [
    {
     "name": "stdout",
     "output_type": "stream",
     "text": [
      "torch.Size([3000, 12])\n",
      "torch.Size([3000, 3])\n"
     ]
    }
   ],
   "source": [
    "t_xs = torch.from_numpy(x)\n",
    "t_ys = torch.from_numpy(y)\n",
    "print(t_xs.shape)\n",
    "print(t_ys.shape)\n",
    "dataset = torch.utils.data.TensorDataset(t_xs, t_ys)\n",
    "(train_set, valid_set) = torch.utils.data.random_split(dataset,(2000,1000))"
   ]
  },
  {
   "cell_type": "code",
   "execution_count": 13,
   "metadata": {
    "scrolled": true
   },
   "outputs": [
    {
     "name": "stdout",
     "output_type": "stream",
     "text": [
      "(tensor([993.2719, 943.9230, 647.6940, 928.0901, 870.9363, 105.6366,   2.5085,\n",
      "        902.8651, 198.1741, 332.7198, 720.2141, 515.5229]), tensor([0., 1., 0.]))\n"
     ]
    }
   ],
   "source": [
    "print(train_set[0])"
   ]
  },
  {
   "cell_type": "code",
   "execution_count": 15,
   "metadata": {},
   "outputs": [],
   "source": [
    "train_loader = torch.utils.data.DataLoader(train_set,batch_size=int(len(train_set)/10))"
   ]
  },
  {
   "cell_type": "code",
   "execution_count": 16,
   "metadata": {},
   "outputs": [],
   "source": [
    "optimizer = torch.optim.SGD(model.parameters(),lr =0.002)"
   ]
  },
  {
   "cell_type": "code",
   "execution_count": 17,
   "metadata": {},
   "outputs": [],
   "source": [
    "loss_func = torch.nn.MSELoss()"
   ]
  },
  {
   "cell_type": "code",
   "execution_count": 18,
   "metadata": {},
   "outputs": [
    {
     "name": "stdout",
     "output_type": "stream",
     "text": [
      "epoch 0 26037319680.000000 26037325824.000000 \n",
      "epoch 100 1805944192.000000 1805945600.000000 \n",
      "epoch 200 125260152.000000 125260536.000000 \n",
      "epoch 300 8688038.000000 8688139.000000 \n",
      "epoch 400 602601.437500 602628.000000 \n",
      "epoch 500 41796.546875 41803.542969 \n",
      "epoch 600 2899.212158 2901.055420 \n",
      "epoch 700 201.295227 201.780930 \n",
      "epoch 800 14.168521 14.296694 \n",
      "epoch 900 1.189469 1.223485 \n",
      "epoch 1000 0.289252 0.298470 \n",
      "epoch 1100 0.226815 0.229503 \n",
      "epoch 1200 0.222486 0.223454 \n",
      "epoch 1300 0.222185 0.222701 \n",
      "epoch 1400 0.222165 0.222561 \n",
      "epoch 1500 0.222163 0.222528 \n",
      "epoch 1600 0.222163 0.222519 \n",
      "epoch 1700 0.222163 0.222517 \n",
      "epoch 1800 0.222163 0.222517 \n",
      "epoch 1900 0.222163 0.222516 \n"
     ]
    }
   ],
   "source": [
    "from IPython import display\n",
    "import time\n",
    "err_train=[]\n",
    "err_valid=[]\n",
    "outputlines = []\n",
    "for epoch in range(2000):    \n",
    "    for datum in train_loader:\n",
    "        optimizer.zero_grad()\n",
    "        (features,target) = datum\n",
    "        pred = model(features)\n",
    "        loss = loss_func(pred, target)\n",
    "        loss.backward()\n",
    "        optimizer.step()\n",
    "    \n",
    "    with torch.no_grad():\n",
    "        vpred  = model(valid_set[:][0])\n",
    "        vloss  = loss_func(vpred,valid_set[:][1])\n",
    "        err_valid.append(vloss)\n",
    "        pred  = model(train_set[:][0])\n",
    "        loss  = loss_func(pred,train_set[:][1])\n",
    "        err_train.append(loss)\n",
    "    if epoch%100 == 0:\n",
    "        print(\"epoch %d %f %f \" % (epoch, loss, vloss)) \n",
    "            "
   ]
  },
  {
   "cell_type": "code",
   "execution_count": null,
   "metadata": {},
   "outputs": [],
   "source": []
  }
 ],
 "metadata": {
  "kernelspec": {
   "display_name": "Python 3",
   "language": "python",
   "name": "python3"
  },
  "language_info": {
   "codemirror_mode": {
    "name": "ipython",
    "version": 3
   },
   "file_extension": ".py",
   "mimetype": "text/x-python",
   "name": "python",
   "nbconvert_exporter": "python",
   "pygments_lexer": "ipython3",
   "version": "3.7.3"
  }
 },
 "nbformat": 4,
 "nbformat_minor": 2
}
