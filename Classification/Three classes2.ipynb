{
 "cells": [
  {
   "cell_type": "markdown",
   "metadata": {},
   "source": [
    "# Created by Diana Janik and Jan Markiewicz"
   ]
  },
  {
   "cell_type": "code",
   "execution_count": 1,
   "metadata": {},
   "outputs": [],
   "source": [
    "import numpy as np\n",
    "import pandas as pd\n",
    "from PIL import Image\n",
    "import matplotlib.pyplot as plt\n",
    "import torch\n",
    "import torch.nn as nn\n",
    "from torch.autograd import Variable\n",
    "import torch.utils.data as data"
   ]
  },
  {
   "cell_type": "code",
   "execution_count": 2,
   "metadata": {},
   "outputs": [
    {
     "name": "stdout",
     "output_type": "stream",
     "text": [
      "[0 0 0 ... 2 2 2]\n"
     ]
    }
   ],
   "source": [
    "x = np.load('classification_problem.npy')\n",
    "y = []\n",
    "class1 = np.array([0])\n",
    "class1 = np.tile(class1, (1000, 1))\n",
    "y.extend(class1)\n",
    "class2 = np.array([1])\n",
    "class2 = np.tile(class2, (1000, 1))\n",
    "y.extend(class2)\n",
    "class3 = np.array([2])\n",
    "class3 = np.tile(class3, (1000, 1))\n",
    "y.extend(class3)\n",
    "y = np.asarray(y)\n",
    "y = y.astype(np.long)\n",
    "y = np.squeeze(y)\n",
    "print(y)"
   ]
  },
  {
   "cell_type": "code",
   "execution_count": 3,
   "metadata": {
    "scrolled": false
   },
   "outputs": [
    {
     "name": "stdout",
     "output_type": "stream",
     "text": [
      "tensor([2, 1, 1,  ..., 1, 0, 2])\n"
     ]
    }
   ],
   "source": [
    "t_xs = torch.from_numpy(x)\n",
    "t_ys = torch.from_numpy(y)\n",
    "dataset = torch.utils.data.TensorDataset(t_xs, t_ys)\n",
    "(train_set, valid_set, test_set) = torch.utils.data.random_split(dataset,(2000, 500, 500))\n",
    "print(train_set[:][1])\n",
    "# print train_set to prove that we have shuffled target values"
   ]
  },
  {
   "cell_type": "code",
   "execution_count": 4,
   "metadata": {},
   "outputs": [],
   "source": [
    "train_loader = torch.utils.data.DataLoader(train_set,batch_size=int(len(train_set)/10))"
   ]
  },
  {
   "cell_type": "code",
   "execution_count": 5,
   "metadata": {},
   "outputs": [],
   "source": [
    "x = Variable(torch.from_numpy(x))\n",
    "y = Variable(torch.from_numpy(y))"
   ]
  },
  {
   "cell_type": "code",
   "execution_count": 6,
   "metadata": {},
   "outputs": [],
   "source": [
    "from torch.autograd import Variable\n",
    "import torch.nn as nn\n",
    "import torch.nn.functional as F\n",
    "\n",
    "\n",
    "class Net(nn.Module):\n",
    "    def __init__(self):\n",
    "        super(Net, self).__init__()\n",
    "        self.fc1 = nn.Linear(12, 144)\n",
    "        self.fc2 = nn.Linear(144, 81)\n",
    "        self.fc3 = nn.Linear(81, 27)\n",
    "        self.fc4 = nn.Linear(27, 3)\n",
    "\n",
    "    def forward(self, x):\n",
    "        x = F.relu(self.fc1(x))\n",
    "        x = F.relu(self.fc2(x))\n",
    "        x = F.relu(self.fc3(x))\n",
    "        x = self.fc4(x)\n",
    "        return x\n",
    "\n",
    "net = Net()"
   ]
  },
  {
   "cell_type": "code",
   "execution_count": 7,
   "metadata": {},
   "outputs": [],
   "source": [
    "import torch.optim as optim\n",
    "\n",
    "criterion = nn.CrossEntropyLoss()\n",
    "optimizer = torch.optim.Adam(net.parameters(), lr=0.01)"
   ]
  },
  {
   "cell_type": "code",
   "execution_count": 8,
   "metadata": {},
   "outputs": [
    {
     "name": "stdout",
     "output_type": "stream",
     "text": [
      "epoch 0 6.420899 6.711712 \n",
      "epoch 100 0.996243 1.001011 \n",
      "epoch 200 0.902342 0.900237 \n",
      "epoch 300 0.908427 0.896722 \n",
      "epoch 400 0.860533 0.850914 \n",
      "epoch 500 0.851748 0.836192 \n",
      "epoch 600 0.810493 0.797276 \n",
      "epoch 700 0.853694 0.837289 \n",
      "epoch 800 0.781884 0.772723 \n",
      "epoch 900 0.785413 0.766365 \n",
      "epoch 1000 0.780037 0.764227 \n",
      "epoch 1100 0.859284 0.835818 \n",
      "epoch 1200 0.772301 0.754897 \n",
      "epoch 1300 0.760539 0.750496 \n",
      "epoch 1400 0.869915 0.852200 \n",
      "epoch 1500 0.743820 0.744599 \n",
      "epoch 1600 0.760210 0.753337 \n",
      "epoch 1700 0.805545 0.788871 \n",
      "epoch 1800 0.808323 0.791571 \n",
      "epoch 1900 0.770376 0.758092 \n"
     ]
    }
   ],
   "source": [
    "from IPython import display\n",
    "import time\n",
    "err_train=[]\n",
    "err_valid=[]\n",
    "outputlines = []\n",
    "for epoch in range(2000):    \n",
    "    for datum in train_loader:\n",
    "        optimizer.zero_grad()\n",
    "        (features,target) = datum\n",
    "        pred = net(features)\n",
    "        loss = criterion(pred, target)\n",
    "        loss.backward()\n",
    "        optimizer.step()\n",
    "    \n",
    "    with torch.no_grad():\n",
    "        vpred  = net(valid_set[:][0])\n",
    "        vloss  = criterion(vpred,valid_set[:][1])\n",
    "        err_valid.append(vloss)\n",
    "        pred  = net(train_set[:][0])\n",
    "        loss  = criterion(pred,train_set[:][1])\n",
    "        err_train.append(loss)\n",
    "    if epoch%100 == 0:\n",
    "        print(\"epoch %d %f %f \" % (epoch, loss, vloss)) \n",
    "# I noticed that sometimes net could stack arount loss 1.1 and will not progress\n",
    "# however I have no idea why sometimes it works and sometimes not"
   ]
  },
  {
   "cell_type": "code",
   "execution_count": 9,
   "metadata": {
    "scrolled": true
   },
   "outputs": [],
   "source": [
    "test_x = test_set[:][0]\n",
    "test_y = test_set[:][1]"
   ]
  },
  {
   "cell_type": "code",
   "execution_count": 10,
   "metadata": {
    "scrolled": true
   },
   "outputs": [
    {
     "name": "stdout",
     "output_type": "stream",
     "text": [
      "test accuracy: 68.4%\n"
     ]
    }
   ],
   "source": [
    "pred = []\n",
    "correct_predictions = 0\n",
    "for i in range(0, len(test_x)):\n",
    "    tmp = net(test_x[i])\n",
    "    pred.append(tmp.argmax(0))\n",
    "    if pred[i] == test_y[i]:\n",
    "        correct_predictions += 1\n",
    "print(\"test accuracy: \" + str(correct_predictions/len(test_x) * 100)+\"%\")"
   ]
  },
  {
   "cell_type": "code",
   "execution_count": null,
   "metadata": {},
   "outputs": [],
   "source": []
  }
 ],
 "metadata": {
  "kernelspec": {
   "display_name": "Python 3",
   "language": "python",
   "name": "python3"
  },
  "language_info": {
   "codemirror_mode": {
    "name": "ipython",
    "version": 3
   },
   "file_extension": ".py",
   "mimetype": "text/x-python",
   "name": "python",
   "nbconvert_exporter": "python",
   "pygments_lexer": "ipython3",
   "version": "3.7.3"
  }
 },
 "nbformat": 4,
 "nbformat_minor": 2
}
