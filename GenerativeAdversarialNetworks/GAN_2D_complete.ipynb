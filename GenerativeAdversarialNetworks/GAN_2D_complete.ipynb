{
  "nbformat": 4,
  "nbformat_minor": 0,
  "metadata": {
    "kernelspec": {
      "display_name": "Python 3",
      "language": "python",
      "name": "python3"
    },
    "language_info": {
      "codemirror_mode": {
        "name": "ipython",
        "version": 3
      },
      "file_extension": ".py",
      "mimetype": "text/x-python",
      "name": "python",
      "nbconvert_exporter": "python",
      "pygments_lexer": "ipython3",
      "version": "3.6.8"
    },
    "colab": {
      "name": "GAN_2D-complete.ipynb",
      "provenance": [],
      "collapsed_sections": []
    }
  },
  "cells": [
    {
      "cell_type": "code",
      "metadata": {
        "id": "OT3cMjLziEA2",
        "colab_type": "code",
        "colab": {}
      },
      "source": [
        "import numpy as np\n",
        "import scipy\n",
        "import scipy.stats\n",
        "import torch as t\n",
        "\n",
        "import matplotlib.pyplot as plt\n",
        "from IPython.display import clear_output, display\n",
        "\n",
        "from torch.nn import Sequential, Linear, ReLU, LeakyReLU, Dropout, Sigmoid"
      ],
      "execution_count": 0,
      "outputs": []
    },
    {
      "cell_type": "code",
      "metadata": {
        "id": "7-ZjXzZJiEA6",
        "colab_type": "code",
        "colab": {}
      },
      "source": [
        "%matplotlib inline"
      ],
      "execution_count": 0,
      "outputs": []
    },
    {
      "cell_type": "code",
      "metadata": {
        "id": "zDGmJFj6iEA8",
        "colab_type": "code",
        "colab": {}
      },
      "source": [
        "if t.cuda.is_available():\n",
        "    if t.cuda.device_count()>1:\n",
        "        device = t.device('cuda:1')\n",
        "    else:\n",
        "        device = t.device('cuda')   \n",
        "else:\n",
        "    device = t.device('cpu')"
      ],
      "execution_count": 0,
      "outputs": []
    },
    {
      "cell_type": "code",
      "metadata": {
        "id": "_Z8xKVIViEA_",
        "colab_type": "code",
        "colab": {}
      },
      "source": [
        "# device=t.device('cpu') #Overrride the above device choice"
      ],
      "execution_count": 0,
      "outputs": []
    },
    {
      "cell_type": "markdown",
      "metadata": {
        "id": "ZmO9t6zqiEBB",
        "colab_type": "text"
      },
      "source": [
        "Generate the sample 2D distribution: uniform from unit circle.  "
      ]
    },
    {
      "cell_type": "code",
      "metadata": {
        "id": "a07U7TWPiEBC",
        "colab_type": "code",
        "colab": {}
      },
      "source": [
        "angle = np.random.uniform(-np.pi,np.pi,(1000,1)).astype('float32')\n",
        "data = np.concatenate((np.cos(angle), np.sin(angle)),axis=1)"
      ],
      "execution_count": 0,
      "outputs": []
    },
    {
      "cell_type": "code",
      "metadata": {
        "id": "hUBUWuTiiEBE",
        "colab_type": "code",
        "outputId": "f7ebe196-61e6-41e5-b0fc-2c9d8fd45e7e",
        "colab": {
          "base_uri": "https://localhost:8080/",
          "height": 282
        }
      },
      "source": [
        "plt.scatter(data[:,0], data[:,1])"
      ],
      "execution_count": 6,
      "outputs": [
        {
          "output_type": "execute_result",
          "data": {
            "text/plain": [
              "<matplotlib.collections.PathCollection at 0x7fc44ff70550>"
            ]
          },
          "metadata": {
            "tags": []
          },
          "execution_count": 6
        },
        {
          "output_type": "display_data",
          "data": {
            "image/png": "[encoded data removed]",
            "text/plain": [
              "<Figure size 432x288 with 1 Axes>"
            ]
          },
          "metadata": {
            "tags": []
          }
        }
      ]
    },
    {
      "cell_type": "code",
      "metadata": {
        "id": "nimSYMKGiEBK",
        "colab_type": "code",
        "colab": {}
      },
      "source": [
        "data_t = t.from_numpy(data)"
      ],
      "execution_count": 0,
      "outputs": []
    },
    {
      "cell_type": "code",
      "metadata": {
        "id": "jmEmgq8viEBO",
        "colab_type": "code",
        "outputId": "910864e0-145d-4553-8922-55f019e35f54",
        "colab": {
          "base_uri": "https://localhost:8080/",
          "height": 136
        }
      },
      "source": [
        "data_t"
      ],
      "execution_count": 8,
      "outputs": [
        {
          "output_type": "execute_result",
          "data": {
            "text/plain": [
              "tensor([[ 0.1066, -0.9943],\n",
              "        [ 0.6811,  0.7322],\n",
              "        [-0.2317,  0.9728],\n",
              "        ...,\n",
              "        [ 0.9931,  0.1172],\n",
              "        [ 0.2666, -0.9638],\n",
              "        [-0.8010,  0.5986]])"
            ]
          },
          "metadata": {
            "tags": []
          },
          "execution_count": 8
        }
      ]
    },
    {
      "cell_type": "code",
      "metadata": {
        "id": "Z0E2tVTuDy2q",
        "colab_type": "code",
        "outputId": "c3eba5b7-217c-409b-cd4a-8300f34c7f23",
        "colab": {
          "base_uri": "https://localhost:8080/",
          "height": 34
        }
      },
      "source": [
        "len(data_t)"
      ],
      "execution_count": 9,
      "outputs": [
        {
          "output_type": "execute_result",
          "data": {
            "text/plain": [
              "1000"
            ]
          },
          "metadata": {
            "tags": []
          },
          "execution_count": 9
        }
      ]
    },
    {
      "cell_type": "code",
      "metadata": {
        "id": "SzBLagc3iEBR",
        "colab_type": "code",
        "colab": {}
      },
      "source": [
        "discriminator = Sequential(Linear(2,1),  Sigmoid()) #dummy discriminator: please subsitute you own implementation "
      ],
      "execution_count": 0,
      "outputs": []
    },
    {
      "cell_type": "code",
      "metadata": {
        "id": "bxf0LLOiiEBW",
        "colab_type": "code",
        "colab": {}
      },
      "source": [
        "discriminator = discriminator.to(device) "
      ],
      "execution_count": 0,
      "outputs": []
    },
    {
      "cell_type": "code",
      "metadata": {
        "id": "q2y_-7gniEBZ",
        "colab_type": "code",
        "colab": {}
      },
      "source": [
        "generator = Sequential(Linear(2,2))# dummy generator: please subsitute you own implementation "
      ],
      "execution_count": 0,
      "outputs": []
    },
    {
      "cell_type": "code",
      "metadata": {
        "id": "kecI5F9TiEBb",
        "colab_type": "code",
        "colab": {}
      },
      "source": [
        "generator= generator.to(device)"
      ],
      "execution_count": 0,
      "outputs": []
    },
    {
      "cell_type": "code",
      "metadata": {
        "id": "dnPb8g3iiEBf",
        "colab_type": "code",
        "colab": {}
      },
      "source": [
        "out_t = generator(t.empty(1000,2, device=device).uniform_(-1,1));"
      ],
      "execution_count": 0,
      "outputs": []
    },
    {
      "cell_type": "code",
      "metadata": {
        "id": "t_pDeq3DiEBh",
        "colab_type": "code",
        "outputId": "27935f97-12c9-474a-cd84-fa72ffd5efe1",
        "colab": {
          "base_uri": "https://localhost:8080/",
          "height": 282
        }
      },
      "source": [
        "plt.scatter(out_t.data.cpu().numpy()[:,0],out_t.data.cpu().numpy()[:,1])"
      ],
      "execution_count": 15,
      "outputs": [
        {
          "output_type": "execute_result",
          "data": {
            "text/plain": [
              "<matplotlib.collections.PathCollection at 0x7fc44d261940>"
            ]
          },
          "metadata": {
            "tags": []
          },
          "execution_count": 15
        },
        {
          "output_type": "display_data",
          "data": {
            "image/png": "[encoded data removed]",
            "text/plain": [
              "<Figure size 432x288 with 1 Axes>"
            ]
          },
          "metadata": {
            "tags": []
          }
        }
      ]
    },
    {
      "cell_type": "code",
      "metadata": {
        "id": "S9Kfc-N2iEBk",
        "colab_type": "code",
        "colab": {}
      },
      "source": [
        "d_optimizer = t.optim.Adam(discriminator.parameters(), lr=0.0002)"
      ],
      "execution_count": 0,
      "outputs": []
    },
    {
      "cell_type": "code",
      "metadata": {
        "id": "9HKnLrEKiEBm",
        "colab_type": "code",
        "colab": {}
      },
      "source": [
        "g_optimizer = t.optim.Adam(generator.parameters(), lr=0.0002)"
      ],
      "execution_count": 0,
      "outputs": []
    },
    {
      "cell_type": "markdown",
      "metadata": {
        "id": "hNHpUAo3iEBo",
        "colab_type": "text"
      },
      "source": [
        "### Problem 1"
      ]
    },
    {
      "cell_type": "markdown",
      "metadata": {
        "id": "Qc52UOuBiEBp",
        "colab_type": "text"
      },
      "source": [
        "Implement the GAN train loop that will train GAN to generate from the sample distribution.  "
      ]
    },
    {
      "cell_type": "code",
      "metadata": {
        "id": "fhoEub_FtdsS",
        "colab_type": "code",
        "colab": {}
      },
      "source": [
        "import random "
      ],
      "execution_count": 0,
      "outputs": []
    },
    {
      "cell_type": "code",
      "metadata": {
        "id": "bA2JEuO6qqE8",
        "colab_type": "code",
        "colab": {}
      },
      "source": [
        "generator = Sequential(Linear(1,512), LeakyReLU(0.2, inplace=True),\n",
        "                       Linear(512,512), LeakyReLU(0.2, inplace=True),\n",
        "                       Linear(512,256), LeakyReLU(0.2, inplace=True),\n",
        "                       Linear(256,32), LeakyReLU(0.2, inplace=True),\n",
        "                       Linear(32, 2))\n",
        "\n",
        "discriminator = Sequential(Linear(2,512), LeakyReLU(0.2, inplace=True),\n",
        "                           Linear(512,256), LeakyReLU(0.2, inplace=True),\n",
        "                           Linear(256,32), LeakyReLU(0.2, inplace=True),\n",
        "                           Linear(32,1),  Sigmoid())\n",
        "\n",
        "discriminator = discriminator.to(device) \n",
        "generator= generator.to(device)\n",
        "\n",
        "\n",
        "data_t = data_t.to(device)"
      ],
      "execution_count": 0,
      "outputs": []
    },
    {
      "cell_type": "code",
      "metadata": {
        "id": "l7fDMAclwYZe",
        "colab_type": "code",
        "colab": {}
      },
      "source": [
        "bce = t.nn.BCELoss()\n",
        "d_optimizer = t.optim.Adam(discriminator.parameters(), lr=0.0002)\n",
        "g_optimizer = t.optim.Adam(generator.parameters(), lr=0.0002)\n",
        "\n"
      ],
      "execution_count": 0,
      "outputs": []
    },
    {
      "cell_type": "code",
      "metadata": {
        "id": "CBQPZ8zvJ4XX",
        "colab_type": "code",
        "colab": {}
      },
      "source": [
        "from IPython.display import clear_output  "
      ],
      "execution_count": 0,
      "outputs": []
    },
    {
      "cell_type": "code",
      "metadata": {
        "id": "MckrpKhoC-N_",
        "colab_type": "code",
        "outputId": "6a50bcc1-ff2c-4cbd-adda-0f5150f8faf1",
        "colab": {
          "base_uri": "https://localhost:8080/",
          "height": 282
        }
      },
      "source": [
        "mini_batch_size = 256\n",
        "k_discriminator = 2\n",
        "k_generator = 1\n",
        "for epoch in range(1,11):\n",
        "    for batch in range(len(data)//mini_batch_size):\n",
        "        for k_d in range(k_discriminator):\n",
        "            d_optimizer.zero_grad()\n",
        "            kr = np.random.randint(0,len(data)//mini_batch_size )\n",
        "          \n",
        "            d = data_t[kr*mini_batch_size:(kr+1)*mini_batch_size]\n",
        "            real_labels = t.ones(mini_batch_size, 1, device=device)\n",
        "            d_real_loss = bce(discriminator(d), 0.9*real_labels)\n",
        "      \n",
        "            z = t.empty(mini_batch_size,1, device=device).uniform_(-1,1)\n",
        "            g_out = generator(z)\n",
        "            fake_labels = t.zeros(mini_batch_size, 1, device=device)\n",
        "            d_fake_loss = bce(discriminator(g_out), fake_labels)\n",
        "            d_loss = d_real_loss + d_fake_loss\n",
        "            d_loss.backward()\n",
        "            d_optimizer.step()\n",
        "    \n",
        "        g_optimizer.zero_grad()\n",
        "        z = t.empty(mini_batch_size, 1, device=device).uniform_(-1,1)\n",
        "        g_out = generator(z)\n",
        "        g_loss = bce(discriminator(g_out), real_labels)\n",
        "        g_loss.backward()\n",
        "        g_optimizer.step()\n",
        "        \n",
        "    if epoch%10 == 0:\n",
        "        with t.no_grad():\n",
        "                z = t.empty(len(data_t),1, device=device).uniform_(-1,1)\n",
        "                real_labels = t.ones(len(data_t),1, device=device)\n",
        "                fake_labels = t.zeros(len(data_t),1, device=device)\n",
        "                g_out =  generator(z)\n",
        "                dg_out = discriminator(g_out)\n",
        "                d_loss =  bce(discriminator(data_t), real_labels)\n",
        "                d_loss +=  bce(dg_out, fake_labels)\n",
        "                \n",
        "                g_loss = bce(dg_out, real_labels)\n",
        "                \n",
        "                clear_output() \n",
        "                print(epoch, d_loss.item(), g_loss.item())\n",
        "                gen  = generator(t.empty(10000,1).uniform_(-1,1).to(device))\n",
        "                plt.scatter(gen.data.cpu().numpy()[:,0],gen.data.cpu().numpy()[:,1])  \n",
        "                plt.show()\n",
        "              \n",
        "      \n",
        "          "
      ],
      "execution_count": 0,
      "outputs": [
        {
          "output_type": "stream",
          "text": [
            "10 1.396676778793335 0.8241339325904846\n"
          ],
          "name": "stdout"
        },
        {
          "output_type": "display_data",
          "data": {
            "image/png": "[encoded data removed]",
            "text/plain": [
              "<Figure size 432x288 with 1 Axes>"
            ]
          },
          "metadata": {
            "tags": []
          }
        }
      ]
    },
    {
      "cell_type": "code",
      "metadata": {
        "id": "9bX8q9N1C2Ek",
        "colab_type": "code",
        "outputId": "a969e005-449a-4d15-d39d-168b79b5af0f",
        "colab": {
          "base_uri": "https://localhost:8080/",
          "height": 282
        }
      },
      "source": [
        "gen  = generator(t.empty(10000,1).uniform_(-1,1).to(device))\n",
        "plt.scatter(gen.data.cpu().numpy()[:,0],gen.data.cpu().numpy()[:,1])"
      ],
      "execution_count": 0,
      "outputs": [
        {
          "output_type": "execute_result",
          "data": {
            "text/plain": [
              "<matplotlib.collections.PathCollection at 0x7f421e89dc88>"
            ]
          },
          "metadata": {
            "tags": []
          },
          "execution_count": 80
        },
        {
          "output_type": "display_data",
          "data": {
            "image/png": "[encoded data removed]",
            "text/plain": [
              "<Figure size 432x288 with 1 Axes>"
            ]
          },
          "metadata": {
            "tags": []
          }
        }
      ]
    },
    {
      "cell_type": "code",
      "metadata": {
        "id": "gKne_35GMBzb",
        "colab_type": "code",
        "outputId": "10320e8e-9ae6-494f-8ce3-bb79bc930081",
        "colab": {
          "base_uri": "https://localhost:8080/",
          "height": 153
        }
      },
      "source": [
        "from google.colab import files\n",
        "\n",
        "filename1 = \"2D-circle-GAN-generator.pt\"\n",
        "t.save(generator, filename1)\n",
        "files.download(filename1) \n",
        "\n",
        "filename2 = \"2D-circle-GAN-discriminator.pt\"\n",
        "t.save(discriminator, filename2)\n",
        "files.download(filename2) "
      ],
      "execution_count": 26,
      "outputs": [
        {
          "output_type": "stream",
          "text": [
            "/usr/local/lib/python3.6/dist-packages/torch/serialization.py:292: UserWarning: Couldn't retrieve source code for container of type Sequential. It won't be checked for correctness upon loading.\n",
            "  \"type \" + obj.__name__ + \". It won't be checked \"\n",
            "/usr/local/lib/python3.6/dist-packages/torch/serialization.py:292: UserWarning: Couldn't retrieve source code for container of type Linear. It won't be checked for correctness upon loading.\n",
            "  \"type \" + obj.__name__ + \". It won't be checked \"\n",
            "/usr/local/lib/python3.6/dist-packages/torch/serialization.py:292: UserWarning: Couldn't retrieve source code for container of type LeakyReLU. It won't be checked for correctness upon loading.\n",
            "  \"type \" + obj.__name__ + \". It won't be checked \"\n",
            "/usr/local/lib/python3.6/dist-packages/torch/serialization.py:292: UserWarning: Couldn't retrieve source code for container of type Sigmoid. It won't be checked for correctness upon loading.\n",
            "  \"type \" + obj.__name__ + \". It won't be checked \"\n"
          ],
          "name": "stderr"
        }
      ]
    },
    {
      "cell_type": "markdown",
      "metadata": {
        "id": "Iapj5WmYiEBp",
        "colab_type": "text"
      },
      "source": [
        "### Problem 2"
      ]
    },
    {
      "cell_type": "markdown",
      "metadata": {
        "id": "GRHToC20iEBq",
        "colab_type": "text"
      },
      "source": [
        "Use another sampling distribution. One that is not concentrated on a line e.g. an ellipse. "
      ]
    },
    {
      "cell_type": "code",
      "metadata": {
        "id": "sIe-ZDmKiEBr",
        "colab_type": "code",
        "outputId": "884fa706-649b-49f4-fcbe-d5dc0e4b9d89",
        "colab": {
          "base_uri": "https://localhost:8080/",
          "height": 268
        }
      },
      "source": [
        "angle = np.random.uniform(-np.pi,np.pi,(1000,1)).astype('float32')\n",
        "data = np.concatenate((np.sin(angle), np.cosh(angle)),axis=1)\n",
        "plt.scatter(data[:,0], data[:,1])\n",
        "data_t = t.from_numpy(data)"
      ],
      "execution_count": 19,
      "outputs": [
        {
          "output_type": "display_data",
          "data": {
            "image/png": "[encoded data removed]",
            "text/plain": [
              "<Figure size 432x288 with 1 Axes>"
            ]
          },
          "metadata": {
            "tags": []
          }
        }
      ]
    },
    {
      "cell_type": "code",
      "metadata": {
        "id": "MeTKeWHkOYhe",
        "colab_type": "code",
        "colab": {}
      },
      "source": [
        "generator = Sequential(Linear(1,512), LeakyReLU(0.2, inplace=True),\n",
        "                       Linear(512,512), LeakyReLU(0.2, inplace=True),\n",
        "                       Linear(512,256), LeakyReLU(0.2, inplace=True),\n",
        "                       Linear(256,32), LeakyReLU(0.2, inplace=True),\n",
        "                       Linear(32, 2))\n",
        "\n",
        "discriminator = Sequential(Linear(2,512), LeakyReLU(0.2, inplace=True),\n",
        "                           Linear(512,256), LeakyReLU(0.2, inplace=True),\n",
        "                           Linear(256,32), LeakyReLU(0.2, inplace=True),\n",
        "                           Linear(32,1),  Sigmoid())\n",
        "\n",
        "discriminator = discriminator.to(device) \n",
        "generator= generator.to(device)\n",
        "\n",
        "\n",
        "data_t = data_t.to(device)\n",
        "bce = t.nn.BCELoss()\n",
        "d_optimizer = t.optim.Adam(discriminator.parameters(), lr=0.0002)\n",
        "g_optimizer = t.optim.Adam(generator.parameters(), lr=0.0002)"
      ],
      "execution_count": 0,
      "outputs": []
    },
    {
      "cell_type": "code",
      "metadata": {
        "id": "Jvo-93I6OpCA",
        "colab_type": "code",
        "outputId": "bfc0b5ff-5ce4-48cb-b4ee-9604b783eace",
        "colab": {
          "base_uri": "https://localhost:8080/",
          "height": 282
        }
      },
      "source": [
        "mini_batch_size = 256\n",
        "k_discriminator = 2\n",
        "k_generator = 1\n",
        "for epoch in range(1,1501):\n",
        "    for batch in range(len(data)//mini_batch_size):\n",
        "        for k_d in range(k_discriminator):\n",
        "            d_optimizer.zero_grad()\n",
        "            kr = np.random.randint(0,len(data)//mini_batch_size )\n",
        "          \n",
        "            d = data_t[kr*mini_batch_size:(kr+1)*mini_batch_size]\n",
        "            real_labels = t.ones(mini_batch_size, 1, device=device)\n",
        "            d_real_loss = bce(discriminator(d), 0.9*real_labels)\n",
        "      \n",
        "            z = t.empty(mini_batch_size,1, device=device).uniform_(-1,1)\n",
        "            g_out = generator(z)\n",
        "            fake_labels = t.zeros(mini_batch_size, 1, device=device)\n",
        "            d_fake_loss = bce(discriminator(g_out), fake_labels)\n",
        "            d_loss = d_real_loss + d_fake_loss\n",
        "            d_loss.backward()\n",
        "            d_optimizer.step()\n",
        "    \n",
        "        g_optimizer.zero_grad()\n",
        "        z = t.empty(mini_batch_size, 1, device=device).uniform_(-1,1)\n",
        "        g_out = generator(z)\n",
        "        g_loss = bce(discriminator(g_out), real_labels)\n",
        "        g_loss.backward()\n",
        "        g_optimizer.step()\n",
        "        \n",
        "    if epoch%10 == 0:\n",
        "        with t.no_grad():\n",
        "                z = t.empty(len(data_t),1, device=device).uniform_(-1,1)\n",
        "                real_labels = t.ones(len(data_t),1, device=device)\n",
        "                fake_labels = t.zeros(len(data_t),1, device=device)\n",
        "                g_out =  generator(z)\n",
        "                dg_out = discriminator(g_out)\n",
        "                d_loss =  bce(discriminator(data_t), real_labels)\n",
        "                d_loss +=  bce(dg_out, fake_labels)\n",
        "                \n",
        "                g_loss = bce(dg_out, real_labels)\n",
        "                \n",
        "                clear_output() \n",
        "                print(epoch, d_loss.item(), g_loss.item())\n",
        "                gen  = generator(t.empty(10000,1).uniform_(-1,1).to(device))\n",
        "                plt.scatter(gen.data.cpu().numpy()[:,0],gen.data.cpu().numpy()[:,1])  \n",
        "                plt.show()\n",
        "              "
      ],
      "execution_count": 23,
      "outputs": [
        {
          "output_type": "stream",
          "text": [
            "500 1.422633171081543 0.9092018008232117\n"
          ],
          "name": "stdout"
        },
        {
          "output_type": "display_data",
          "data": {
            "image/png": "[encoded data removed]",
            "text/plain": [
              "<Figure size 432x288 with 1 Axes>"
            ]
          },
          "metadata": {
            "tags": []
          }
        }
      ]
    },
    {
      "cell_type": "code",
      "metadata": {
        "id": "yfkLrt8KOwTN",
        "colab_type": "code",
        "colab": {
          "base_uri": "https://localhost:8080/",
          "height": 282
        },
        "outputId": "0e64aa98-c79c-4b9d-e9be-e9dcfb297750"
      },
      "source": [
        "gen  = generator(t.empty(10000,1).uniform_(-1,1).to(device))\n",
        "plt.scatter(gen.data.cpu().numpy()[:,0],gen.data.cpu().numpy()[:,1])"
      ],
      "execution_count": 24,
      "outputs": [
        {
          "output_type": "execute_result",
          "data": {
            "text/plain": [
              "<matplotlib.collections.PathCollection at 0x7fc44bebea90>"
            ]
          },
          "metadata": {
            "tags": []
          },
          "execution_count": 24
        },
        {
          "output_type": "display_data",
          "data": {
            "image/png": "[encoded data removed]",
            "text/plain": [
              "<Figure size 432x288 with 1 Axes>"
            ]
          },
          "metadata": {
            "tags": []
          }
        }
      ]
    },
    {
      "cell_type": "code",
      "metadata": {
        "id": "TmXKuGTqO0Nm",
        "colab_type": "code",
        "colab": {
          "base_uri": "https://localhost:8080/",
          "height": 153
        },
        "outputId": "95ee38c8-a500-4ede-a5e7-771063bf5c21"
      },
      "source": [
        "filename1 = \"2D-other-GAN-generator.pt\"\n",
        "t.save(generator, filename1)\n",
        "files.download(filename1) \n",
        "\n",
        "filename2 = \"2D-other-GAN-discriminator.pt\"\n",
        "t.save(discriminator, filename2)\n",
        "files.download(filename2) "
      ],
      "execution_count": 27,
      "outputs": [
        {
          "output_type": "stream",
          "text": [
            "/usr/local/lib/python3.6/dist-packages/torch/serialization.py:292: UserWarning: Couldn't retrieve source code for container of type Sequential. It won't be checked for correctness upon loading.\n",
            "  \"type \" + obj.__name__ + \". It won't be checked \"\n",
            "/usr/local/lib/python3.6/dist-packages/torch/serialization.py:292: UserWarning: Couldn't retrieve source code for container of type Linear. It won't be checked for correctness upon loading.\n",
            "  \"type \" + obj.__name__ + \". It won't be checked \"\n",
            "/usr/local/lib/python3.6/dist-packages/torch/serialization.py:292: UserWarning: Couldn't retrieve source code for container of type LeakyReLU. It won't be checked for correctness upon loading.\n",
            "  \"type \" + obj.__name__ + \". It won't be checked \"\n",
            "/usr/local/lib/python3.6/dist-packages/torch/serialization.py:292: UserWarning: Couldn't retrieve source code for container of type Sigmoid. It won't be checked for correctness upon loading.\n",
            "  \"type \" + obj.__name__ + \". It won't be checked \"\n"
          ],
          "name": "stderr"
        }
      ]
    },
    {
      "cell_type": "code",
      "metadata": {
        "id": "4AzXmzE0Suc9",
        "colab_type": "code",
        "colab": {}
      },
      "source": [
        ""
      ],
      "execution_count": 0,
      "outputs": []
    }
  ]
}