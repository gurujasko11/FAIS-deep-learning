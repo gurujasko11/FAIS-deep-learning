{
 "cells": [
  {
   "cell_type": "code",
   "execution_count": 49,
   "metadata": {},
   "outputs": [],
   "source": [
    "import numpy as np\n",
    "import scipy\n",
    "import scipy.stats\n",
    "import torch as t\n",
    "import matplotlib.pyplot as plt"
   ]
  },
  {
   "cell_type": "code",
   "execution_count": 50,
   "metadata": {},
   "outputs": [],
   "source": [
    "from torch.nn import Sequential, Linear, ReLU, LeakyReLU, Dropout, Sigmoid"
   ]
  },
  {
   "cell_type": "code",
   "execution_count": 51,
   "metadata": {},
   "outputs": [],
   "source": [
    "%matplotlib inline"
   ]
  },
  {
   "cell_type": "code",
   "execution_count": 52,
   "metadata": {},
   "outputs": [],
   "source": [
    "if t.cuda.is_available():\n",
    "    if t.cuda.device_count()>1:\n",
    "        device = t.device('cuda:1')\n",
    "    else:\n",
    "        device = t.device('cuda')   \n",
    "else:\n",
    "    device = t.device('cpu')"
   ]
  },
  {
   "cell_type": "code",
   "execution_count": 53,
   "metadata": {},
   "outputs": [],
   "source": [
    "d1_dist = scipy.stats.norm(loc=3,scale=2)\n",
    "d2_dist = scipy.stats.norm(loc=0,  scale=0.5)"
   ]
  },
  {
   "cell_type": "code",
   "execution_count": 54,
   "metadata": {},
   "outputs": [],
   "source": [
    "d1 = d1_dist.rvs(size=50000).astype('float32')\n",
    "d2 = d2_dist.rvs(25000).astype('float32')"
   ]
  },
  {
   "cell_type": "code",
   "execution_count": 55,
   "metadata": {},
   "outputs": [],
   "source": [
    "def p_data(x):\n",
    "    return 2/3*d1_dist.pdf(x)+1/3*d2_dist.pdf(x)"
   ]
  },
  {
   "cell_type": "code",
   "execution_count": 56,
   "metadata": {},
   "outputs": [],
   "source": [
    "data =np.concatenate((d1,d2)) \n",
    "np.random.shuffle(data)\n",
    "data_t = t.from_numpy(data).view(-1,1)"
   ]
  },
  {
   "cell_type": "code",
   "execution_count": 57,
   "metadata": {},
   "outputs": [
    {
     "data": {
      "text/plain": [
       "tensor([[ 2.7928],\n",
       "        [ 4.7403],\n",
       "        [ 0.8903],\n",
       "        ...,\n",
       "        [-0.6896],\n",
       "        [ 4.6869],\n",
       "        [ 2.2767]])"
      ]
     },
     "execution_count": 57,
     "metadata": {},
     "output_type": "execute_result"
    }
   ],
   "source": [
    "data_t"
   ]
  },
  {
   "cell_type": "code",
   "execution_count": 58,
   "metadata": {},
   "outputs": [],
   "source": [
    "ys = np.linspace(-5,10,100).astype('float32')"
   ]
  },
  {
   "cell_type": "code",
   "execution_count": 59,
   "metadata": {},
   "outputs": [
    {
     "data": {
      "text/plain": [
       "[<matplotlib.lines.Line2D at 0x7fcf527ab898>]"
      ]
     },
     "execution_count": 59,
     "metadata": {},
     "output_type": "execute_result"
    },
    {
     "data": {
      "image/png": "[encoded data removed]",
      "text/plain": [
       "<Figure size 432x288 with 1 Axes>"
      ]
     },
     "metadata": {
      "needs_background": "light"
     },
     "output_type": "display_data"
    }
   ],
   "source": [
    "plt.hist(data, bins=100, density=True);\n",
    "plt.plot(ys, p_data(ys))"
   ]
  },
  {
   "cell_type": "code",
   "execution_count": 60,
   "metadata": {},
   "outputs": [],
   "source": [
    "noise_dist=scipy.stats.uniform(loc=0, scale=1)"
   ]
  },
  {
   "cell_type": "markdown",
   "metadata": {},
   "source": [
    "## Inverse cumulant"
   ]
  },
  {
   "cell_type": "code",
   "execution_count": 61,
   "metadata": {},
   "outputs": [],
   "source": [
    "us = np.linspace(0,1,100).astype('float32')\n",
    "us_t = t.from_numpy(us).view(-1,1)"
   ]
  },
  {
   "cell_type": "code",
   "execution_count": 62,
   "metadata": {},
   "outputs": [],
   "source": [
    "def f_generator(u):\n",
    "    return t.log(u/(1-u))"
   ]
  },
  {
   "cell_type": "markdown",
   "metadata": {},
   "source": [
    "$$ Y = \\log\\left(\\frac{u}{1-u}\\right)$$"
   ]
  },
  {
   "cell_type": "markdown",
   "metadata": {},
   "source": [
    "$$CDF_{Y}(x)=P(Y<y)$$ "
   ]
  },
  {
   "cell_type": "markdown",
   "metadata": {},
   "source": [
    "$$P(\\log\\left(\\frac{u}{1-u}\\right)<y)$$ "
   ]
  },
  {
   "cell_type": "markdown",
   "metadata": {},
   "source": [
    "$$P\\left(\\frac{u}{1-u}<e^y\\right)$$ "
   ]
  },
  {
   "cell_type": "markdown",
   "metadata": {},
   "source": [
    "$$P\\left(u<e^y-u e^y\\right)$$ "
   ]
  },
  {
   "cell_type": "markdown",
   "metadata": {},
   "source": [
    "$$P\\left(u(1+ e^y)<e^y\\right)$$ "
   ]
  },
  {
   "cell_type": "markdown",
   "metadata": {},
   "source": [
    "$$P\\left(u<\\frac{e^y}{1+ e^y}\\right)=\\frac{e^y}{1+ e^y}=\\frac{1}{1+ e^{-y}} $$ "
   ]
  },
  {
   "cell_type": "markdown",
   "metadata": {},
   "source": [
    "$$PDF_Y(x) = \\frac{\\partial}{\\partial y}\\frac{1}{1+ e^{-y}}=\\frac{e^{-y}}{(1+e^{-y})^2}$$"
   ]
  },
  {
   "cell_type": "code",
   "execution_count": 63,
   "metadata": {},
   "outputs": [],
   "source": [
    "def p_gen(y):\n",
    "    e = np.exp(-y)\n",
    "    return e/((1+e)*(1+e))"
   ]
  },
  {
   "cell_type": "code",
   "execution_count": 64,
   "metadata": {},
   "outputs": [],
   "source": [
    "p_ys = p_gen(ys).reshape(-1,1)"
   ]
  },
  {
   "cell_type": "code",
   "execution_count": 65,
   "metadata": {},
   "outputs": [],
   "source": [
    "gen = f_generator(t.FloatTensor(10000,1).uniform_(0,1))"
   ]
  },
  {
   "cell_type": "code",
   "execution_count": 66,
   "metadata": {},
   "outputs": [
    {
     "data": {
      "image/png": "[encoded data removed]",
      "text/plain": [
       "<Figure size 432x288 with 1 Axes>"
      ]
     },
     "metadata": {
      "needs_background": "light"
     },
     "output_type": "display_data"
    }
   ],
   "source": [
    "plt.hist(gen.data.numpy().reshape(-1), bins=100, density=True);\n",
    "plt.plot(ys, p_ys);"
   ]
  },
  {
   "cell_type": "markdown",
   "metadata": {},
   "source": [
    "### Data"
   ]
  },
  {
   "cell_type": "code",
   "execution_count": 67,
   "metadata": {},
   "outputs": [],
   "source": [
    "n = 1000\n",
    "xs = np.linspace(-5,10,n+1)\n",
    "pdf_data = p_data(xs)\n",
    "cum_data = np.cumsum(pdf_data)*15/n\n",
    "cum_data[0]=0.0\n",
    "cum_data[-1]=1.0"
   ]
  },
  {
   "cell_type": "code",
   "execution_count": 68,
   "metadata": {},
   "outputs": [
    {
     "data": {
      "text/plain": [
       "[<matplotlib.lines.Line2D at 0x7fcf50ef30f0>]"
      ]
     },
     "execution_count": 68,
     "metadata": {},
     "output_type": "execute_result"
    },
    {
     "data": {
      "image/png": "[encoded data removed]",
      "text/plain": [
       "<Figure size 432x288 with 1 Axes>"
      ]
     },
     "metadata": {
      "needs_background": "light"
     },
     "output_type": "display_data"
    }
   ],
   "source": [
    "plt.plot(cum_data,xs)"
   ]
  },
  {
   "cell_type": "code",
   "execution_count": 69,
   "metadata": {},
   "outputs": [],
   "source": [
    "from scipy.interpolate import interp1d"
   ]
  },
  {
   "cell_type": "code",
   "execution_count": 70,
   "metadata": {},
   "outputs": [],
   "source": [
    "inv_cum_data = interp1d(cum_data, xs,3)"
   ]
  },
  {
   "cell_type": "code",
   "execution_count": 71,
   "metadata": {},
   "outputs": [],
   "source": [
    "fake_data = inv_cum_data(np.random.uniform(0,1,100000))"
   ]
  },
  {
   "cell_type": "code",
   "execution_count": 72,
   "metadata": {},
   "outputs": [
    {
     "data": {
      "image/png": "[encoded data removed]",
      "text/plain": [
       "<Figure size 432x288 with 1 Axes>"
      ]
     },
     "metadata": {
      "needs_background": "light"
     },
     "output_type": "display_data"
    }
   ],
   "source": [
    "plt.hist(fake_data, bins=100, density=True);\n",
    "plt.plot(xs, p_data(xs));"
   ]
  },
  {
   "cell_type": "markdown",
   "metadata": {},
   "source": [
    "## Generative Adversarial Network"
   ]
  },
  {
   "cell_type": "code",
   "execution_count": 73,
   "metadata": {},
   "outputs": [],
   "source": [
    "def makeNet(n_layers, n_neurons_in_last_layer):\n",
    "    n = n_layers-1\n",
    "    n_neurons_in_first_layer = n_neurons_in_last_layer*(2**(n-1))\n",
    "    modules=[]\n",
    "    modules.append(Linear(in_features=1, out_features=n_neurons_in_first_layer))\n",
    "    modules.append(LeakyReLU())\n",
    "    for i in range(n-1):\n",
    "        modules.append(Linear(in_features=n_neurons_in_first_layer, out_features=n_neurons_in_first_layer//2))\n",
    "        modules.append(LeakyReLU())\n",
    "        n_neurons_in_first_layer//=2\n",
    "    modules.append(Linear(in_features=n_neurons_in_last_layer, out_features=1))\n",
    "   \n",
    "    return Sequential(*modules)"
   ]
  },
  {
   "cell_type": "code",
   "execution_count": 74,
   "metadata": {},
   "outputs": [],
   "source": [
    "discriminator = Sequential(Linear(1,512), LeakyReLU(0.2, inplace=True),\n",
    "                           Linear(512,32), LeakyReLU(0.2, inplace=True),\n",
    "                           Linear(32,1),  Sigmoid()\n",
    "                                     )"
   ]
  },
  {
   "cell_type": "code",
   "execution_count": 75,
   "metadata": {},
   "outputs": [],
   "source": [
    "discriminator=discriminator.to(device)\n",
    "data_t = data_t.to(device)"
   ]
  },
  {
   "cell_type": "code",
   "execution_count": 76,
   "metadata": {},
   "outputs": [],
   "source": [
    "d_optimizer = t.optim.Adam(discriminator.parameters(), lr=0.0002)"
   ]
  },
  {
   "cell_type": "code",
   "execution_count": 77,
   "metadata": {},
   "outputs": [],
   "source": [
    "bce = t.nn.BCELoss()"
   ]
  },
  {
   "cell_type": "code",
   "execution_count": 78,
   "metadata": {},
   "outputs": [],
   "source": [
    "d_out = discriminator(t.from_numpy(ys).view(-1,1).to(device))"
   ]
  },
  {
   "cell_type": "code",
   "execution_count": 79,
   "metadata": {},
   "outputs": [
    {
     "data": {
      "image/png": "[encoded data removed]",
      "text/plain": [
       "<Figure size 432x288 with 1 Axes>"
      ]
     },
     "metadata": {
      "needs_background": "light"
     },
     "output_type": "display_data"
    }
   ],
   "source": [
    "plt.plot(ys,d_out.data.cpu().numpy().reshape(-1),c='r');\n",
    "plt.plot(ys, p_data(ys)/(p_data(ys)+p_gen(ys)),c='b');"
   ]
  },
  {
   "cell_type": "code",
   "execution_count": 80,
   "metadata": {},
   "outputs": [],
   "source": [
    "generator = makeNet(5,32)"
   ]
  },
  {
   "cell_type": "code",
   "execution_count": 81,
   "metadata": {},
   "outputs": [
    {
     "name": "stdout",
     "output_type": "stream",
     "text": [
      "Sequential(\n",
      "  (0): Linear(in_features=1, out_features=256, bias=True)\n",
      "  (1): LeakyReLU(negative_slope=0.01)\n",
      "  (2): Linear(in_features=256, out_features=128, bias=True)\n",
      "  (3): LeakyReLU(negative_slope=0.01)\n",
      "  (4): Linear(in_features=128, out_features=64, bias=True)\n",
      "  (5): LeakyReLU(negative_slope=0.01)\n",
      "  (6): Linear(in_features=64, out_features=32, bias=True)\n",
      "  (7): LeakyReLU(negative_slope=0.01)\n",
      "  (8): Linear(in_features=32, out_features=1, bias=True)\n",
      ")\n"
     ]
    }
   ],
   "source": [
    "print(generator)"
   ]
  },
  {
   "cell_type": "code",
   "execution_count": 82,
   "metadata": {},
   "outputs": [],
   "source": [
    "generator= generator.to(device)"
   ]
  },
  {
   "cell_type": "code",
   "execution_count": 83,
   "metadata": {},
   "outputs": [],
   "source": [
    "out_t = generator(t.FloatTensor(us_t).to(device));"
   ]
  },
  {
   "cell_type": "code",
   "execution_count": 84,
   "metadata": {},
   "outputs": [
    {
     "data": {
      "text/plain": [
       "[<matplotlib.lines.Line2D at 0x7fcf53c3e518>]"
      ]
     },
     "execution_count": 84,
     "metadata": {},
     "output_type": "execute_result"
    },
    {
     "data": {
      "image/png": "[encoded data removed]",
      "text/plain": [
       "<Figure size 432x288 with 1 Axes>"
      ]
     },
     "metadata": {
      "needs_background": "light"
     },
     "output_type": "display_data"
    }
   ],
   "source": [
    "plt.plot(us, out_t.data.cpu().numpy().reshape(-1))"
   ]
  },
  {
   "cell_type": "code",
   "execution_count": 85,
   "metadata": {},
   "outputs": [],
   "source": [
    "g_optimizer = t.optim.Adam(generator.parameters(), lr=0.0002)"
   ]
  },
  {
   "cell_type": "code",
   "execution_count": 86,
   "metadata": {},
   "outputs": [],
   "source": [
    "gen = generator(t.empty(10000,1).uniform_(-1,1).to(device))"
   ]
  },
  {
   "cell_type": "code",
   "execution_count": 87,
   "metadata": {},
   "outputs": [
    {
     "data": {
      "image/png": "[encoded data removed]",
      "text/plain": [
       "<Figure size 432x288 with 1 Axes>"
      ]
     },
     "metadata": {
      "needs_background": "light"
     },
     "output_type": "display_data"
    }
   ],
   "source": [
    "plt.hist(gen.data.cpu().numpy().reshape(-1), bins=100, density=True);\n",
    "#plt.plot(ys, p_data(ys));"
   ]
  },
  {
   "cell_type": "code",
   "execution_count": 88,
   "metadata": {},
   "outputs": [
    {
     "data": {
      "text/plain": [
       "0.6931471805599453"
      ]
     },
     "execution_count": 88,
     "metadata": {},
     "output_type": "execute_result"
    }
   ],
   "source": [
    "-np.log(0.5)"
   ]
  },
  {
   "cell_type": "code",
   "execution_count": 89,
   "metadata": {},
   "outputs": [
    {
     "name": "stdout",
     "output_type": "stream",
     "text": [
      "5 1.3656479120254517 0.8458724617958069\n",
      "10 1.3718149662017822 0.817359983921051\n",
      "15 1.3774893283843994 0.8110611438751221\n",
      "20 1.3755614757537842 0.8097977042198181\n",
      "25 1.3844223022460938 0.8299487233161926\n",
      "30 1.3811967372894287 0.7857630252838135\n",
      "35 1.3845956325531006 0.8037973046302795\n",
      "40 1.3899428844451904 0.8133092522621155\n",
      "45 1.3880844116210938 0.8022446632385254\n",
      "50 1.3901145458221436 0.8152012825012207\n",
      "55 1.3904149532318115 0.8198248147964478\n",
      "60 1.3859797716140747 0.7938093543052673\n",
      "65 1.38637375831604 0.7849090099334717\n",
      "70 1.3896331787109375 0.7957789301872253\n",
      "75 1.3941469192504883 0.8145495057106018\n",
      "80 1.390815019607544 0.8014981150627136\n",
      "85 1.3874998092651367 0.7758854627609253\n",
      "90 1.3939034938812256 0.8069838881492615\n",
      "95 1.3897755146026611 0.8196473717689514\n",
      "100 1.3921663761138916 0.8029554486274719\n",
      "105 1.3930014371871948 0.8220686316490173\n",
      "110 1.3936814069747925 0.8056089282035828\n",
      "115 1.3448244333267212 0.8500984311103821\n",
      "120 1.3915491104125977 0.7964109182357788\n",
      "125 1.3858318328857422 0.7789004445075989\n",
      "130 1.3924872875213623 0.8027129173278809\n",
      "135 1.393632173538208 0.8152344226837158\n",
      "140 1.3911374807357788 0.788295567035675\n",
      "145 1.392190933227539 0.8014959096908569\n",
      "150 1.396415114402771 0.8247728943824768\n",
      "155 1.3878253698349 0.7666442394256592\n",
      "160 1.3948169946670532 0.8153043985366821\n",
      "165 1.372747778892517 0.8076454401016235\n",
      "170 1.3925352096557617 0.7916324734687805\n",
      "175 1.3851675987243652 0.7916877865791321\n",
      "180 1.3901453018188477 0.8081385493278503\n",
      "185 1.397594928741455 0.8155137896537781\n",
      "190 1.392927646636963 0.7993979454040527\n",
      "195 1.3892309665679932 0.7788547873497009\n",
      "200 1.3953936100006104 0.7960769534111023\n"
     ]
    }
   ],
   "source": [
    "mini_batch_size = 2048\n",
    "k_discriminator = 12\n",
    "k_generator = 1\n",
    "for epoch in range(1,201):\n",
    "    for batch in range(len(data)//mini_batch_size):\n",
    "        for k_d in range(k_discriminator):\n",
    "            d_optimizer.zero_grad()\n",
    "            kr = np.random.randint(0,len(data)//mini_batch_size )\n",
    "          \n",
    "            d = data_t[kr*mini_batch_size:(kr+1)*mini_batch_size]\n",
    "            real_labels = t.ones(mini_batch_size, 1, device=device)\n",
    "            d_real_loss = bce(discriminator(d), 0.9*real_labels)\n",
    "      \n",
    "            z = t.empty(mini_batch_size,1, device=device).uniform_(-1,1)\n",
    "            g_out = generator(z)\n",
    "            fake_labels = t.zeros(mini_batch_size, 1, device=device)\n",
    "            d_fake_loss = bce(discriminator(g_out), fake_labels)\n",
    "            d_loss = d_real_loss + d_fake_loss\n",
    "            d_loss.backward()\n",
    "            d_optimizer.step()\n",
    "    \n",
    "        g_optimizer.zero_grad()\n",
    "        z = t.empty(mini_batch_size,1, device=device).uniform_(-1,1)\n",
    "        g_out = generator(z)\n",
    "        g_loss = bce(discriminator(g_out), real_labels)\n",
    "        g_loss.backward()\n",
    "        g_optimizer.step()\n",
    "        \n",
    "    if epoch%5 == 0:\n",
    "        with t.no_grad():\n",
    "                z = t.empty(len(data_t),1, device=device).uniform_(-1,1)\n",
    "                real_labels = t.ones(len(data_t),1, device=device)\n",
    "                fake_labels = t.zeros(len(data_t),1, device=device)\n",
    "                g_out =  generator(z)\n",
    "                dg_out = discriminator(g_out)\n",
    "                d_loss =  bce(discriminator(data_t), real_labels)\n",
    "                d_loss +=  bce(dg_out, fake_labels)\n",
    "                \n",
    "                g_loss = bce(dg_out, real_labels)\n",
    "                \n",
    "                print(epoch, d_loss.item(), g_loss.item())     "
   ]
  },
  {
   "cell_type": "code",
   "execution_count": 90,
   "metadata": {},
   "outputs": [],
   "source": [
    "gen = generator(t.empty(100000,1).uniform_(-1,1).to(device))"
   ]
  },
  {
   "cell_type": "code",
   "execution_count": 91,
   "metadata": {},
   "outputs": [
    {
     "data": {
      "image/png": "[encoded data removed]",
      "text/plain": [
       "<Figure size 432x288 with 1 Axes>"
      ]
     },
     "metadata": {
      "needs_background": "light"
     },
     "output_type": "display_data"
    }
   ],
   "source": [
    "plt.hist(gen.data.cpu().numpy().reshape(-1), bins=100, density=True);\n",
    "plt.plot(ys, p_data(ys));"
   ]
  },
  {
   "cell_type": "code",
   "execution_count": 92,
   "metadata": {},
   "outputs": [],
   "source": [
    "d_out = discriminator(t.from_numpy(ys).to(device).view(-1,1))"
   ]
  },
  {
   "cell_type": "code",
   "execution_count": 93,
   "metadata": {},
   "outputs": [
    {
     "data": {
      "image/png": "[encoded data removed]",
      "text/plain": [
       "<Figure size 432x288 with 1 Axes>"
      ]
     },
     "metadata": {
      "needs_background": "light"
     },
     "output_type": "display_data"
    }
   ],
   "source": [
    "plt.plot(ys,d_out.data.cpu().numpy().reshape(-1));\n",
    "plt.axhline(0.5);"
   ]
  },
  {
   "cell_type": "code",
   "execution_count": 94,
   "metadata": {},
   "outputs": [],
   "source": [
    "out_t = generator(t.linspace(-1,1,100).view(-1,1).to(device));"
   ]
  },
  {
   "cell_type": "code",
   "execution_count": 95,
   "metadata": {},
   "outputs": [
    {
     "data": {
      "image/png": "[encoded data removed]",
      "text/plain": [
       "<Figure size 432x288 with 1 Axes>"
      ]
     },
     "metadata": {
      "needs_background": "light"
     },
     "output_type": "display_data"
    }
   ],
   "source": [
    "plt.plot(np.linspace(-1,1,100), out_t.data.cpu().numpy().reshape(-1))\n",
    "plt.plot(2*cum_data-1, xs);"
   ]
  },
  {
   "cell_type": "code",
   "execution_count": null,
   "metadata": {},
   "outputs": [],
   "source": []
  },
  {
   "cell_type": "code",
   "execution_count": null,
   "metadata": {},
   "outputs": [],
   "source": []
  }
 ],
 "metadata": {
  "kernelspec": {
   "display_name": "Python 3",
   "language": "python",
   "name": "python3"
  },
  "language_info": {
   "codemirror_mode": {
    "name": "ipython",
    "version": 3
   },
   "file_extension": ".py",
   "mimetype": "text/x-python",
   "name": "python",
   "nbconvert_exporter": "python",
   "pygments_lexer": "ipython3",
   "version": "3.6.8"
  }
 },
 "nbformat": 4,
 "nbformat_minor": 4
}
