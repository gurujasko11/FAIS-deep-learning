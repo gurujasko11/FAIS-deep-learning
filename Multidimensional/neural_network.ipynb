{
  "nbformat": 4,
  "nbformat_minor": 0,
  "metadata": {
    "kernelspec": {
      "name": "python3",
      "display_name": "Python 3"
    },
    "language_info": {
      "codemirror_mode": {
        "name": "ipython",
        "version": 3
      },
      "file_extension": ".py",
      "mimetype": "text/x-python",
      "name": "python",
      "nbconvert_exporter": "python",
      "pygments_lexer": "ipython3",
      "version": "3.7.3"
    },
    "colab": {
      "name": "neural_network.ipynb",
      "provenance": [],
      "toc_visible": true
    },
    "accelerator": "GPU"
  },
  "cells": [
    {
      "cell_type": "code",
      "metadata": {
        "id": "byXkMuyKO-Hh",
        "colab_type": "code",
        "colab": {}
      },
      "source": [
        "import numpy as np\n",
        "import scipy as sp\n",
        "import scipy.stats as stats\n",
        "\n",
        "import matplotlib.pyplot as plt\n",
        "%matplotlib inline"
      ],
      "execution_count": 0,
      "outputs": []
    },
    {
      "cell_type": "markdown",
      "metadata": {
        "id": "8e1ys9FzO-Hk",
        "colab_type": "text"
      },
      "source": [
        "# Created by Diana Janik and Jan Markiewicz"
      ]
    },
    {
      "cell_type": "code",
      "metadata": {
        "id": "dMRt_uGwO-Hm",
        "colab_type": "code",
        "colab": {}
      },
      "source": [
        "import torch \n",
        "import torchvision"
      ],
      "execution_count": 0,
      "outputs": []
    },
    {
      "cell_type": "markdown",
      "metadata": {
        "id": "48pqGw2OO-Hp",
        "colab_type": "text"
      },
      "source": [
        "\n",
        "## Zadanie 1"
      ]
    },
    {
      "cell_type": "markdown",
      "metadata": {
        "id": "vFHl5lXlO-Hq",
        "colab_type": "text"
      },
      "source": [
        "Wytrenuj sieć na danych  z pliku `reg_data_noise.npy`. "
      ]
    },
    {
      "cell_type": "code",
      "metadata": {
        "id": "1CRX-6TfO-Hr",
        "colab_type": "code",
        "colab": {}
      },
      "source": [
        "data = np.load('reg_multi.npy')"
      ],
      "execution_count": 0,
      "outputs": []
    },
    {
      "cell_type": "code",
      "metadata": {
        "id": "1_5haSkrO-Hu",
        "colab_type": "code",
        "colab": {}
      },
      "source": [
        "xs = data[:,:15]\n",
        "ys = data[:,16]"
      ],
      "execution_count": 0,
      "outputs": []
    },
    {
      "cell_type": "code",
      "metadata": {
        "id": "oWXcezyUO-ID",
        "colab_type": "code",
        "colab": {}
      },
      "source": [
        "import torch\n",
        "from torch.autograd import Variable\n",
        "\n",
        "class linearRegression(torch.nn.Module):\n",
        "    def __init__(self, inputSize, outputSize):\n",
        "        super(linearRegression, self).__init__()\n",
        "        self.linear = torch.nn.Linear(inputSize, outputSize)\n",
        "\n",
        "    def forward(self, x):\n",
        "        out = self.linear(x)\n",
        "        return out"
      ],
      "execution_count": 0,
      "outputs": []
    },
    {
      "cell_type": "code",
      "metadata": {
        "id": "61yw3eaEO-IG",
        "colab_type": "code",
        "colab": {}
      },
      "source": [
        "inputDim = 15        # takes variable 'x' \n",
        "outputDim = 1       # takes variable 'y'\n",
        "learningRate = 0.01 \n",
        "epochs = 1000\n",
        "\n",
        "model = linearRegression(inputDim, outputDim)\n",
        "##### For GPU #######\n",
        "if torch.cuda.is_available():\n",
        "    model.cuda()"
      ],
      "execution_count": 0,
      "outputs": []
    },
    {
      "cell_type": "code",
      "metadata": {
        "id": "IYX044llO-IJ",
        "colab_type": "code",
        "colab": {}
      },
      "source": [
        "criterion = torch.nn.MSELoss() \n",
        "optimizer = torch.optim.SGD(model.parameters(),lr =0.01)"
      ],
      "execution_count": 0,
      "outputs": []
    },
    {
      "cell_type": "code",
      "metadata": {
        "id": "Sya37fZgT98L",
        "colab_type": "code",
        "colab": {}
      },
      "source": [
        "x_train = xs[:20000]\n",
        "y_train = ys[:20000]"
      ],
      "execution_count": 0,
      "outputs": []
    },
    {
      "cell_type": "code",
      "metadata": {
        "scrolled": true,
        "id": "4GU4iVL3O-IN",
        "colab_type": "code",
        "colab": {
          "base_uri": "https://localhost:8080/",
          "height": 1000
        },
        "outputId": "8352f53a-68ec-4b7c-a1a1-1a9708eb5cdb"
      },
      "source": [
        "for epoch in range(epochs):\n",
        "    # Converting inputs and labels to Variable\n",
        "    if torch.cuda.is_available():\n",
        "        inputs = Variable(torch.from_numpy(x_train).cuda())\n",
        "        labels = Variable(torch.from_numpy(y_train).cuda())\n",
        "    else:\n",
        "        inputs = Variable(torch.from_numpy(x_train))\n",
        "        labels = Variable(torch.from_numpy(y_train))\n",
        "    # inputs = np.asarray(x_train)\n",
        "    # labels = np.asarray(y_train)\n",
        "    # Clear gradient buffers because we don't want any gradient from previous epoch to carry forward, dont want to cummulate gradients\n",
        "    optimizer.zero_grad()\n",
        "\n",
        "    # get output from the model, given the inputs\n",
        "    outputs = model(inputs)\n",
        "\n",
        "    # get loss for the predicted output\n",
        "    loss = criterion(outputs, labels)\n",
        "\n",
        "    # get gradients w.r.t to parameters\n",
        "    loss.backward()\n",
        "\n",
        "    # update parameters\n",
        "    optimizer.step()\n",
        "    if epoch % 10 == 0:\n",
        "      print('epoch {}, loss {}'.format(epoch, loss.item()))"
      ],
      "execution_count": 12,
      "outputs": [
        {
          "output_type": "stream",
          "text": [
            "/usr/local/lib/python3.6/dist-packages/torch/nn/modules/loss.py:431: UserWarning: Using a target size (torch.Size([20000])) that is different to the input size (torch.Size([20000, 1])). This will likely lead to incorrect results due to broadcasting. Please ensure they have the same size.\n",
            "  return F.mse_loss(input, target, reduction=self.reduction)\n"
          ],
          "name": "stderr"
        },
        {
          "output_type": "stream",
          "text": [
            "epoch 0, loss 0.4198024868965149\n",
            "epoch 10, loss 0.3988986909389496\n",
            "epoch 20, loss 0.3828957676887512\n",
            "epoch 30, loss 0.3704202473163605\n",
            "epoch 40, loss 0.36052337288856506\n",
            "epoch 50, loss 0.35254380106925964\n",
            "epoch 60, loss 0.34601569175720215\n",
            "epoch 70, loss 0.3406065106391907\n",
            "epoch 80, loss 0.3360756039619446\n",
            "epoch 90, loss 0.33224591612815857\n",
            "epoch 100, loss 0.3289848268032074\n",
            "epoch 110, loss 0.32619133591651917\n",
            "epoch 120, loss 0.32378703355789185\n",
            "epoch 130, loss 0.32170987129211426\n",
            "epoch 140, loss 0.3199099898338318\n",
            "epoch 150, loss 0.31834691762924194\n",
            "epoch 160, loss 0.316987007856369\n",
            "epoch 170, loss 0.31580227613449097\n",
            "epoch 180, loss 0.3147689998149872\n",
            "epoch 190, loss 0.31386715173721313\n",
            "epoch 200, loss 0.31307947635650635\n",
            "epoch 210, loss 0.3123911917209625\n",
            "epoch 220, loss 0.3117895722389221\n",
            "epoch 230, loss 0.3112635016441345\n",
            "epoch 240, loss 0.3108034133911133\n",
            "epoch 250, loss 0.31040099263191223\n",
            "epoch 260, loss 0.3100488483905792\n",
            "epoch 270, loss 0.30974081158638\n",
            "epoch 280, loss 0.3094712793827057\n",
            "epoch 290, loss 0.30923545360565186\n",
            "epoch 300, loss 0.3090290427207947\n",
            "epoch 310, loss 0.30884841084480286\n",
            "epoch 320, loss 0.30869030952453613\n",
            "epoch 330, loss 0.30855199694633484\n",
            "epoch 340, loss 0.30843091011047363\n",
            "epoch 350, loss 0.308324933052063\n",
            "epoch 360, loss 0.3082321882247925\n",
            "epoch 370, loss 0.308150976896286\n",
            "epoch 380, loss 0.30807992815971375\n",
            "epoch 390, loss 0.3080177307128906\n",
            "epoch 400, loss 0.3079633116722107\n",
            "epoch 410, loss 0.30791565775871277\n",
            "epoch 420, loss 0.30787393450737\n",
            "epoch 430, loss 0.30783742666244507\n",
            "epoch 440, loss 0.30780547857284546\n",
            "epoch 450, loss 0.3077774941921234\n",
            "epoch 460, loss 0.3077529966831207\n",
            "epoch 470, loss 0.30773159861564636\n",
            "epoch 480, loss 0.3077128529548645\n",
            "epoch 490, loss 0.3076964318752289\n",
            "epoch 500, loss 0.30768200755119324\n",
            "epoch 510, loss 0.307669460773468\n",
            "epoch 520, loss 0.30765843391418457\n",
            "epoch 530, loss 0.30764877796173096\n",
            "epoch 540, loss 0.30764034390449524\n",
            "epoch 550, loss 0.3076329529285431\n",
            "epoch 560, loss 0.30762648582458496\n",
            "epoch 570, loss 0.3076208233833313\n",
            "epoch 580, loss 0.30761584639549255\n",
            "epoch 590, loss 0.3076115548610687\n",
            "epoch 600, loss 0.3076077401638031\n",
            "epoch 610, loss 0.30760443210601807\n",
            "epoch 620, loss 0.3076015114784241\n",
            "epoch 630, loss 0.30759894847869873\n",
            "epoch 640, loss 0.30759671330451965\n",
            "epoch 650, loss 0.30759474635124207\n",
            "epoch 660, loss 0.30759304761886597\n",
            "epoch 670, loss 0.3075915277004242\n",
            "epoch 680, loss 0.3075902462005615\n",
            "epoch 690, loss 0.3075890839099884\n",
            "epoch 700, loss 0.3075880706310272\n",
            "epoch 710, loss 0.3075871765613556\n",
            "epoch 720, loss 0.3075864315032959\n",
            "epoch 730, loss 0.307585746049881\n",
            "epoch 740, loss 0.3075851798057556\n",
            "epoch 750, loss 0.30758464336395264\n",
            "epoch 760, loss 0.3075841963291168\n",
            "epoch 770, loss 0.3075838088989258\n",
            "epoch 780, loss 0.30758345127105713\n",
            "epoch 790, loss 0.30758315324783325\n",
            "epoch 800, loss 0.30758288502693176\n",
            "epoch 810, loss 0.30758264660835266\n",
            "epoch 820, loss 0.30758243799209595\n",
            "epoch 830, loss 0.307582288980484\n",
            "epoch 840, loss 0.3075821101665497\n",
            "epoch 850, loss 0.30758199095726013\n",
            "epoch 860, loss 0.3075818717479706\n",
            "epoch 870, loss 0.30758175253868103\n",
            "epoch 880, loss 0.30758166313171387\n",
            "epoch 890, loss 0.3075815737247467\n",
            "epoch 900, loss 0.30758151412010193\n",
            "epoch 910, loss 0.30758145451545715\n",
            "epoch 920, loss 0.30758136510849\n",
            "epoch 930, loss 0.3075813353061676\n",
            "epoch 940, loss 0.3075813353061676\n",
            "epoch 950, loss 0.30758124589920044\n",
            "epoch 960, loss 0.30758124589920044\n",
            "epoch 970, loss 0.30758118629455566\n",
            "epoch 980, loss 0.30758118629455566\n",
            "epoch 990, loss 0.30758118629455566\n"
          ],
          "name": "stdout"
        }
      ]
    },
    {
      "cell_type": "code",
      "metadata": {
        "id": "EOYjKqnqO-IZ",
        "colab_type": "code",
        "colab": {
          "base_uri": "https://localhost:8080/",
          "height": 105
        },
        "outputId": "9423981a-9dca-4923-9576-000d0dce708e"
      },
      "source": [
        "torch.save(model, \"multi_regression.pt\")"
      ],
      "execution_count": 13,
      "outputs": [
        {
          "output_type": "stream",
          "text": [
            "/usr/local/lib/python3.6/dist-packages/torch/serialization.py:292: UserWarning: Couldn't retrieve source code for container of type linearRegression. It won't be checked for correctness upon loading.\n",
            "  \"type \" + obj.__name__ + \". It won't be checked \"\n",
            "/usr/local/lib/python3.6/dist-packages/torch/serialization.py:292: UserWarning: Couldn't retrieve source code for container of type Linear. It won't be checked for correctness upon loading.\n",
            "  \"type \" + obj.__name__ + \". It won't be checked \"\n"
          ],
          "name": "stderr"
        }
      ]
    }
  ]
}