{
  "nbformat": 4,
  "nbformat_minor": 0,
  "metadata": {
    "colab": {
      "name": "skipgram.ipynb",
      "provenance": []
    },
    "kernelspec": {
      "name": "python3",
      "display_name": "Python 3"
    },
    "accelerator": "GPU"
  },
  "cells": [
    {
      "cell_type": "code",
      "metadata": {
        "id": "FdOs7SfAeAZV",
        "colab_type": "code",
        "colab": {
          "base_uri": "https://localhost:8080/",
          "height": 80
        },
        "outputId": "b564605f-138f-4d2b-d4cb-51bc3b50bdd3"
      },
      "source": [
        "from keras.preprocessing.text import Tokenizer\n",
        "from keras.layers import Embedding, Reshape, Activation, Input\n",
        "from keras.models import Model\n",
        "from keras.layers.merge import Dot\n",
        "import matplotlib.pyplot as plt\n",
        "from keras.preprocessing.sequence import skipgrams\n",
        "import numpy as np\n",
        "from google.colab import files\n",
        "from keras.utils.data_utils import get_file\n",
        "from keras.utils import np_utils\n",
        "import gensim"
      ],
      "execution_count": 1,
      "outputs": [
        {
          "output_type": "stream",
          "text": [
            "Using TensorFlow backend.\n"
          ],
          "name": "stderr"
        },
        {
          "output_type": "display_data",
          "data": {
            "text/html": [
              "<p style=\"color: red;\">\n",
              "The default version of TensorFlow in Colab will soon switch to TensorFlow 2.x.<br>\n",
              "We recommend you <a href=\"https://www.tensorflow.org/guide/migrate\" target=\"_blank\">upgrade</a> now \n",
              "or ensure your notebook will continue to use TensorFlow 1.x via the <code>%tensorflow_version 1.x</code> magic:\n",
              "<a href=\"https://colab.research.google.com/notebooks/tensorflow_version.ipynb\" target=\"_blank\">more info</a>.</p>\n"
            ],
            "text/plain": [
              "<IPython.core.display.HTML object>"
            ]
          },
          "metadata": {
            "tags": []
          }
        }
      ]
    },
    {
      "cell_type": "code",
      "metadata": {
        "id": "HCY-1Z_YeDV_",
        "colab_type": "code",
        "colab": {
          "base_uri": "https://localhost:8080/",
          "height": 51
        },
        "outputId": "aae215d4-8341-4fed-b9be-bcd0c5c089cd"
      },
      "source": [
        "path = get_file('alice.txt', origin='http://www.gutenberg.org/files/11/11-0.txt')\n",
        "all_lines = open(path).readlines()"
      ],
      "execution_count": 2,
      "outputs": [
        {
          "output_type": "stream",
          "text": [
            "Downloading data from http://www.gutenberg.org/files/11/11-0.txt\n",
            "180224/173595 [===============================] - 1s 6us/step\n"
          ],
          "name": "stdout"
        }
      ]
    },
    {
      "cell_type": "code",
      "metadata": {
        "id": "uHpgZvprejEi",
        "colab_type": "code",
        "colab": {}
      },
      "source": [
        "corpus = [line for line in all_lines if line.count(\" \") > 2]"
      ],
      "execution_count": 0,
      "outputs": []
    },
    {
      "cell_type": "code",
      "metadata": {
        "id": "DRr3tR1Iejql",
        "colab_type": "code",
        "colab": {}
      },
      "source": [
        "tokenizer = Tokenizer()\n",
        "tokenizer.fit_on_texts(corpus)"
      ],
      "execution_count": 0,
      "outputs": []
    },
    {
      "cell_type": "code",
      "metadata": {
        "id": "4YXoFSRJenP_",
        "colab_type": "code",
        "colab": {}
      },
      "source": [
        "word_input = Input(shape=(1, ), dtype='int32')\n",
        "context_input = Input(shape=(1, ), dtype='int32')"
      ],
      "execution_count": 0,
      "outputs": []
    },
    {
      "cell_type": "code",
      "metadata": {
        "id": "lfIvRVXjfS9B",
        "colab_type": "code",
        "colab": {}
      },
      "source": [
        "embedding_input_dim,embedding_output_dim  = len(tokenizer.word_index) + 1, 128\n",
        "word_embedding = Embedding(embedding_input_dim, embedding_output_dim)(word_input)\n",
        "context_embedding  = Embedding(embedding_input_dim, embedding_output_dim)(context_input)"
      ],
      "execution_count": 0,
      "outputs": []
    },
    {
      "cell_type": "code",
      "metadata": {
        "id": "YzLvqBmzfTec",
        "colab_type": "code",
        "colab": {}
      },
      "source": [
        "merged = Dot(axes=2)([word_embedding, context_embedding])\n",
        "output = Activation('sigmoid')(Reshape((1,), input_shape=(1, 1))(merged))"
      ],
      "execution_count": 0,
      "outputs": []
    },
    {
      "cell_type": "code",
      "metadata": {
        "id": "W_F0-V1mfTuc",
        "colab_type": "code",
        "colab": {}
      },
      "source": [
        "skipgram_model = Model(inputs=[word_input, context_input], outputs=output)\n",
        "skipgram_model.compile(loss='binary_crossentropy', optimizer='adam')"
      ],
      "execution_count": 0,
      "outputs": []
    },
    {
      "cell_type": "code",
      "metadata": {
        "id": "vt5ECTNffbCM",
        "colab_type": "code",
        "colab": {
          "base_uri": "https://localhost:8080/",
          "height": 408
        },
        "outputId": "3dac9e75-ad37-47e7-ada9-39437f0cbe34"
      },
      "source": [
        "skipgram_model.summary()"
      ],
      "execution_count": 10,
      "outputs": [
        {
          "output_type": "stream",
          "text": [
            "Model: \"model_2\"\n",
            "__________________________________________________________________________________________________\n",
            "Layer (type)                    Output Shape         Param #     Connected to                     \n",
            "==================================================================================================\n",
            "input_3 (InputLayer)            (None, 1)            0                                            \n",
            "__________________________________________________________________________________________________\n",
            "input_4 (InputLayer)            (None, 1)            0                                            \n",
            "__________________________________________________________________________________________________\n",
            "embedding_3 (Embedding)         (None, 1, 128)       432384      input_3[0][0]                    \n",
            "__________________________________________________________________________________________________\n",
            "embedding_4 (Embedding)         (None, 1, 128)       432384      input_4[0][0]                    \n",
            "__________________________________________________________________________________________________\n",
            "dot_2 (Dot)                     (None, 1, 1)         0           embedding_3[0][0]                \n",
            "                                                                 embedding_4[0][0]                \n",
            "__________________________________________________________________________________________________\n",
            "reshape_2 (Reshape)             (None, 1)            0           dot_2[0][0]                      \n",
            "__________________________________________________________________________________________________\n",
            "activation_2 (Activation)       (None, 1)            0           reshape_2[0][0]                  \n",
            "==================================================================================================\n",
            "Total params: 864,768\n",
            "Trainable params: 864,768\n",
            "Non-trainable params: 0\n",
            "__________________________________________________________________________________________________\n"
          ],
          "name": "stdout"
        }
      ]
    },
    {
      "cell_type": "code",
      "metadata": {
        "id": "aCEfti14fgn_",
        "colab_type": "code",
        "colab": {}
      },
      "source": [
        "# prepare skipgram pairs \n",
        "batches = [] # contains tuples with (data, labels)\n",
        "for s in tokenizer.texts_to_sequences(corpus):\n",
        "  data, labels = skipgrams(sequence=s, vocabulary_size=embedding_input_dim, window_size=5, negative_samples=5.)\n",
        "  if data:\n",
        "    batches.append(([np.array(x) for x in zip(*data)], np.array(labels, dtype=np.int32)))"
      ],
      "execution_count": 0,
      "outputs": []
    },
    {
      "cell_type": "code",
      "metadata": {
        "id": "quK2DXLafqO2",
        "colab_type": "code",
        "colab": {
          "base_uri": "https://localhost:8080/",
          "height": 969
        },
        "outputId": "e860f97c-4cd0-4606-f731-a2ef93ba9d1b"
      },
      "source": [
        "\n",
        "# train model \n",
        "epochs = 40\n",
        "losses = []\n",
        "for epoch in range(1, epochs +1):\n",
        "  loss = 0\n",
        "  for batch in batches:\n",
        "    loss += skipgram_model.train_on_batch(batch[0], batch[1])\n",
        "  print(\"Epoch: {} -> loss: {}\".format(epoch, loss))\n",
        "  losses.append(loss)"
      ],
      "execution_count": 12,
      "outputs": [
        {
          "output_type": "stream",
          "text": [
            "WARNING:tensorflow:From /usr/local/lib/python3.6/dist-packages/keras/backend/tensorflow_backend.py:1033: The name tf.assign_add is deprecated. Please use tf.compat.v1.assign_add instead.\n",
            "\n",
            "WARNING:tensorflow:From /usr/local/lib/python3.6/dist-packages/keras/backend/tensorflow_backend.py:1020: The name tf.assign is deprecated. Please use tf.compat.v1.assign instead.\n",
            "\n",
            "WARNING:tensorflow:From /usr/local/lib/python3.6/dist-packages/keras/backend/tensorflow_backend.py:3005: The name tf.Session is deprecated. Please use tf.compat.v1.Session instead.\n",
            "\n",
            "WARNING:tensorflow:From /usr/local/lib/python3.6/dist-packages/keras/backend/tensorflow_backend.py:190: The name tf.get_default_session is deprecated. Please use tf.compat.v1.get_default_session instead.\n",
            "\n",
            "WARNING:tensorflow:From /usr/local/lib/python3.6/dist-packages/keras/backend/tensorflow_backend.py:197: The name tf.ConfigProto is deprecated. Please use tf.compat.v1.ConfigProto instead.\n",
            "\n",
            "WARNING:tensorflow:From /usr/local/lib/python3.6/dist-packages/keras/backend/tensorflow_backend.py:207: The name tf.global_variables is deprecated. Please use tf.compat.v1.global_variables instead.\n",
            "\n",
            "WARNING:tensorflow:From /usr/local/lib/python3.6/dist-packages/keras/backend/tensorflow_backend.py:216: The name tf.is_variable_initialized is deprecated. Please use tf.compat.v1.is_variable_initialized instead.\n",
            "\n",
            "WARNING:tensorflow:From /usr/local/lib/python3.6/dist-packages/keras/backend/tensorflow_backend.py:223: The name tf.variables_initializer is deprecated. Please use tf.compat.v1.variables_initializer instead.\n",
            "\n",
            "Epoch: 1 -> loss: 1054.6984449252486\n",
            "Epoch: 2 -> loss: 724.8388156890869\n",
            "Epoch: 3 -> loss: 671.0902065634727\n",
            "Epoch: 4 -> loss: 640.2406772375107\n",
            "Epoch: 5 -> loss: 610.096641805023\n",
            "Epoch: 6 -> loss: 579.3902470842004\n",
            "Epoch: 7 -> loss: 548.8557943329215\n",
            "Epoch: 8 -> loss: 520.2734726909548\n",
            "Epoch: 9 -> loss: 493.78132791956887\n",
            "Epoch: 10 -> loss: 469.7628724973183\n",
            "Epoch: 11 -> loss: 448.0848562103929\n",
            "Epoch: 12 -> loss: 428.9148502268945\n",
            "Epoch: 13 -> loss: 411.8761678931769\n",
            "Epoch: 14 -> loss: 396.8759813544748\n",
            "Epoch: 15 -> loss: 383.67520884303667\n",
            "Epoch: 16 -> loss: 372.0865664871526\n",
            "Epoch: 17 -> loss: 362.0074434807175\n",
            "Epoch: 18 -> loss: 353.14048891247876\n",
            "Epoch: 19 -> loss: 345.53245187430184\n",
            "Epoch: 20 -> loss: 338.88994501821617\n",
            "Epoch: 21 -> loss: 333.1728288323875\n",
            "Epoch: 22 -> loss: 328.23556815011125\n",
            "Epoch: 23 -> loss: 323.9927028423208\n",
            "Epoch: 24 -> loss: 320.3210468927973\n",
            "Epoch: 25 -> loss: 317.1504904914095\n",
            "Epoch: 26 -> loss: 314.42360822773935\n",
            "Epoch: 27 -> loss: 312.10245602162354\n",
            "Epoch: 28 -> loss: 310.0573092294169\n",
            "Epoch: 29 -> loss: 308.318948727612\n",
            "Epoch: 30 -> loss: 306.78615302300545\n",
            "Epoch: 31 -> loss: 305.46772134939465\n",
            "Epoch: 32 -> loss: 304.3167058338704\n",
            "Epoch: 33 -> loss: 303.29636712127774\n",
            "Epoch: 34 -> loss: 302.41414346416286\n",
            "Epoch: 35 -> loss: 301.63785943765237\n",
            "Epoch: 36 -> loss: 300.9471122863054\n",
            "Epoch: 37 -> loss: 300.34433245572944\n",
            "Epoch: 38 -> loss: 299.8051713711504\n",
            "Epoch: 39 -> loss: 299.33733765564176\n",
            "Epoch: 40 -> loss: 298.9087915139556\n"
          ],
          "name": "stdout"
        }
      ]
    },
    {
      "cell_type": "code",
      "metadata": {
        "id": "pvN2masbfuDD",
        "colab_type": "code",
        "colab": {}
      },
      "source": [
        "filename = 'vectors.txt'\n",
        "f = open(filename ,'w')\n",
        "f.write('{} {}\\n'.format(embedding_input_dim-1, embedding_output_dim))\n",
        "vectors = skipgram_model.get_weights()[0]\n",
        "for word, i in tokenizer.word_index.items():\n",
        "    f.write('{} {}\\n'.format(word, ' '.join(map(str, list(vectors[i, :])))))\n",
        "f.close()"
      ],
      "execution_count": 0,
      "outputs": []
    },
    {
      "cell_type": "code",
      "metadata": {
        "id": "xq-ksDM3g2XV",
        "colab_type": "code",
        "colab": {}
      },
      "source": [
        "files.download(filename)"
      ],
      "execution_count": 0,
      "outputs": []
    },
    {
      "cell_type": "code",
      "metadata": {
        "id": "1uF53ZgPg4Lf",
        "colab_type": "code",
        "colab": {
          "base_uri": "https://localhost:8080/",
          "height": 71
        },
        "outputId": "12a8f19f-2cf9-47a1-cc81-a7d87a544055"
      },
      "source": [
        "word2vector = gensim.models.KeyedVectors.load_word2vec_format('./vectors.txt', binary=False)"
      ],
      "execution_count": 15,
      "outputs": [
        {
          "output_type": "stream",
          "text": [
            "/usr/local/lib/python3.6/dist-packages/smart_open/smart_open_lib.py:402: UserWarning: This function is deprecated, use smart_open.open instead. See the migration notes for details: https://github.com/RaRe-Technologies/smart_open/blob/master/README.rst#migrating-to-the-new-open-function\n",
            "  'See the migration notes for details: %s' % _MIGRATION_NOTES_URL\n"
          ],
          "name": "stderr"
        }
      ]
    },
    {
      "cell_type": "code",
      "metadata": {
        "id": "iikJEwXRhAyt",
        "colab_type": "code",
        "colab": {
          "base_uri": "https://localhost:8080/",
          "height": 241
        },
        "outputId": "f1424f37-5eeb-40cc-da06-fbb7404d4205"
      },
      "source": [
        "word2vector.most_similar(positive=['computer'])"
      ],
      "execution_count": 24,
      "outputs": [
        {
          "output_type": "stream",
          "text": [
            "/usr/local/lib/python3.6/dist-packages/gensim/matutils.py:737: FutureWarning: Conversion of the second argument of issubdtype from `int` to `np.signedinteger` is deprecated. In future, it will be treated as `np.int64 == np.dtype(int).type`.\n",
            "  if np.issubdtype(vec.dtype, np.int):\n"
          ],
          "name": "stderr"
        },
        {
          "output_type": "execute_result",
          "data": {
            "text/plain": [
              "[('codes', 0.82143235206604),\n",
              " ('damage', 0.8130426406860352),\n",
              " ('virus', 0.745389461517334),\n",
              " ('types', 0.4282836318016052),\n",
              " ('exclusion', 0.4189019799232483),\n",
              " ('limitation', 0.41098594665527344),\n",
              " ('performing', 0.4026317000389099),\n",
              " ('warranties', 0.39886412024497986),\n",
              " ('incomplete', 0.39837589859962463),\n",
              " ('f', 0.39460140466690063)]"
            ]
          },
          "metadata": {
            "tags": []
          },
          "execution_count": 24
        }
      ]
    },
    {
      "cell_type": "code",
      "metadata": {
        "id": "CxTiIFoghCh5",
        "colab_type": "code",
        "colab": {
          "base_uri": "https://localhost:8080/",
          "height": 241
        },
        "outputId": "d2483109-a349-4ff5-dce7-ee78629b9a44"
      },
      "source": [
        "word2vector.most_similar(negative=['computer'])"
      ],
      "execution_count": 25,
      "outputs": [
        {
          "output_type": "stream",
          "text": [
            "/usr/local/lib/python3.6/dist-packages/gensim/matutils.py:737: FutureWarning: Conversion of the second argument of issubdtype from `int` to `np.signedinteger` is deprecated. In future, it will be treated as `np.int64 == np.dtype(int).type`.\n",
            "  if np.issubdtype(vec.dtype, np.int):\n"
          ],
          "name": "stderr"
        },
        {
          "output_type": "execute_result",
          "data": {
            "text/plain": [
              "[('opportunity', 0.25291144847869873),\n",
              " ('farmer', 0.23624968528747559),\n",
              " ('stick', 0.23007938265800476),\n",
              " ('hear', 0.21194015443325043),\n",
              " ('nine', 0.20398567616939545),\n",
              " ('‘stand', 0.20273800194263458),\n",
              " ('“‘tis', 0.190240278840065),\n",
              " ('knowledge', 0.18969321250915527),\n",
              " ('prosecute', 0.17776885628700256),\n",
              " ('‘they', 0.176834374666214)]"
            ]
          },
          "metadata": {
            "tags": []
          },
          "execution_count": 25
        }
      ]
    },
    {
      "cell_type": "code",
      "metadata": {
        "id": "3Askh3eyhJlc",
        "colab_type": "code",
        "colab": {
          "base_uri": "https://localhost:8080/",
          "height": 241
        },
        "outputId": "266cfda8-c0de-4b36-fff1-1c1766a16978"
      },
      "source": [
        "word2vector.most_similar(positive=['money'])"
      ],
      "execution_count": 27,
      "outputs": [
        {
          "output_type": "stream",
          "text": [
            "/usr/local/lib/python3.6/dist-packages/gensim/matutils.py:737: FutureWarning: Conversion of the second argument of issubdtype from `int` to `np.signedinteger` is deprecated. In future, it will be treated as `np.int64 == np.dtype(int).type`.\n",
            "  if np.issubdtype(vec.dtype, np.int):\n"
          ],
          "name": "stderr"
        },
        {
          "output_type": "execute_result",
          "data": {
            "text/plain": [
              "[('notifies', 0.6260496377944946),\n",
              " ('refund', 0.596167802810669),\n",
              " ('electronically', 0.5760830044746399),\n",
              " ('lieu', 0.5704810619354248),\n",
              " ('specific', 0.5474052429199219),\n",
              " ('entity', 0.5354718565940857),\n",
              " ('fee', 0.5305605530738831),\n",
              " ('reported', 0.5083633661270142),\n",
              " ('defect', 0.5044872760772705),\n",
              " ('60', 0.49787914752960205)]"
            ]
          },
          "metadata": {
            "tags": []
          },
          "execution_count": 27
        }
      ]
    },
    {
      "cell_type": "code",
      "metadata": {
        "id": "TyvhHv1shieS",
        "colab_type": "code",
        "colab": {
          "base_uri": "https://localhost:8080/",
          "height": 241
        },
        "outputId": "41edaa29-92d2-4fa0-c249-c753d37c68d9"
      },
      "source": [
        "word2vector.most_similar(positive=['sound'])"
      ],
      "execution_count": 29,
      "outputs": [
        {
          "output_type": "stream",
          "text": [
            "/usr/local/lib/python3.6/dist-packages/gensim/matutils.py:737: FutureWarning: Conversion of the second argument of issubdtype from `int` to `np.signedinteger` is deprecated. In future, it will be treated as `np.int64 == np.dtype(int).type`.\n",
            "  if np.issubdtype(vec.dtype, np.int):\n"
          ],
          "name": "stderr"
        },
        {
          "output_type": "execute_result",
          "data": {
            "text/plain": [
              "[('footsteps', 0.44984138011932373),\n",
              " ('tremulous', 0.4198402166366577),\n",
              " ('cartwheels', 0.4021366238594055),\n",
              " ('timid', 0.3783169388771057),\n",
              " ('ledge', 0.3741518259048462),\n",
              " ('walks', 0.37401431798934937),\n",
              " ('happy', 0.37210342288017273),\n",
              " ('pattering', 0.3638741970062256),\n",
              " ('dismay', 0.36237549781799316),\n",
              " ('rumbling', 0.3395119905471802)]"
            ]
          },
          "metadata": {
            "tags": []
          },
          "execution_count": 29
        }
      ]
    },
    {
      "cell_type": "code",
      "metadata": {
        "id": "dG5tp8HYholj",
        "colab_type": "code",
        "colab": {
          "base_uri": "https://localhost:8080/",
          "height": 241
        },
        "outputId": "b002e31a-3d61-4cf2-921b-2b11ebe8f80d"
      },
      "source": [
        "word2vector.most_similar(positive=['grass'])"
      ],
      "execution_count": 34,
      "outputs": [
        {
          "output_type": "stream",
          "text": [
            "/usr/local/lib/python3.6/dist-packages/gensim/matutils.py:737: FutureWarning: Conversion of the second argument of issubdtype from `int` to `np.signedinteger` is deprecated. In future, it will be treated as `np.int64 == np.dtype(int).type`.\n",
            "  if np.issubdtype(vec.dtype, np.int):\n"
          ],
          "name": "stderr"
        },
        {
          "output_type": "execute_result",
          "data": {
            "text/plain": [
              "[('merely', 0.4346730411052704),\n",
              " ('crawled', 0.427352637052536),\n",
              " ('blades', 0.4190056324005127),\n",
              " ('reality', 0.40309464931488037),\n",
              " ('delay', 0.39584994316101074),\n",
              " ('flowers', 0.37092721462249756),\n",
              " ('teacups', 0.36846277117729187),\n",
              " ('pool', 0.33596664667129517),\n",
              " ('bells', 0.31079035997390747),\n",
              " ('favourite', 0.31042033433914185)]"
            ]
          },
          "metadata": {
            "tags": []
          },
          "execution_count": 34
        }
      ]
    },
    {
      "cell_type": "code",
      "metadata": {
        "id": "EI8567k2hwBS",
        "colab_type": "code",
        "colab": {}
      },
      "source": [
        ""
      ],
      "execution_count": 0,
      "outputs": []
    }
  ]
}