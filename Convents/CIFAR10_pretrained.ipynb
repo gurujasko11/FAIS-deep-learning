{
  "nbformat": 4,
  "nbformat_minor": 0,
  "metadata": {
    "colab": {
      "name": "CIFAR10_pretrained",
      "provenance": [],
      "collapsed_sections": [],
      "include_colab_link": true
    },
    "kernelspec": {
      "name": "python3",
      "display_name": "Python 3"
    },
    "accelerator": "GPU"
  },
  "cells": [
    {
      "cell_type": "markdown",
      "metadata": {
        "id": "view-in-github",
        "colab_type": "text"
      },
      "source": [
        "<a href=\"https://colab.research.google.com/github/gurujasko11/FAIS-deep-learning/blob/master/Convents/CIFAR10_pretrained.ipynb\" target=\"_parent\"><img src=\"https://colab.research.google.com/assets/colab-badge.svg\" alt=\"Open In Colab\"/></a>"
      ]
    },
    {
      "cell_type": "code",
      "metadata": {
        "id": "P8QBz9rELI_G",
        "colab_type": "code",
        "colab": {
          "base_uri": "https://localhost:8080/",
          "height": 114
        },
        "outputId": "15554739-6a4d-4837-c30e-806ce906c98c"
      },
      "source": [
        "from keras import layers\n",
        "from keras import models\n",
        "from keras.datasets import cifar10\n",
        "from keras.utils import to_categorical\n",
        "\n",
        "(train_images, train_labels), (test_images, test_labels) = cifar10.load_data()"
      ],
      "execution_count": 1,
      "outputs": [
        {
          "output_type": "stream",
          "text": [
            "Using TensorFlow backend.\n"
          ],
          "name": "stderr"
        },
        {
          "output_type": "display_data",
          "data": {
            "text/html": [
              "<p style=\"color: red;\">\n",
              "The default version of TensorFlow in Colab will soon switch to TensorFlow 2.x.<br>\n",
              "We recommend you <a href=\"https://www.tensorflow.org/guide/migrate\" target=\"_blank\">upgrade</a> now \n",
              "or ensure your notebook will continue to use TensorFlow 1.x via the <code>%tensorflow_version 1.x</code> magic:\n",
              "<a href=\"https://colab.research.google.com/notebooks/tensorflow_version.ipynb\" target=\"_blank\">more info</a>.</p>\n"
            ],
            "text/plain": [
              "<IPython.core.display.HTML object>"
            ]
          },
          "metadata": {
            "tags": []
          }
        },
        {
          "output_type": "stream",
          "text": [
            "Downloading data from https://www.cs.toronto.edu/~kriz/cifar-10-python.tar.gz\n",
            "170500096/170498071 [==============================] - 2s 0us/step\n"
          ],
          "name": "stdout"
        }
      ]
    },
    {
      "cell_type": "code",
      "metadata": {
        "id": "RRYiKP7gLvMk",
        "colab_type": "code",
        "colab": {
          "base_uri": "https://localhost:8080/",
          "height": 411
        },
        "outputId": "d3ff29b2-11d9-4b5f-cc56-da8451b545f8"
      },
      "source": [
        "from keras.applications import VGG16\n",
        "\n",
        "conv_base = VGG16(weights='imagenet',\n",
        "                  include_top=False,\n",
        "                  input_shape=(32, 32, 3))"
      ],
      "execution_count": 2,
      "outputs": [
        {
          "output_type": "stream",
          "text": [
            "WARNING:tensorflow:From /usr/local/lib/python3.6/dist-packages/keras/backend/tensorflow_backend.py:66: The name tf.get_default_graph is deprecated. Please use tf.compat.v1.get_default_graph instead.\n",
            "\n",
            "WARNING:tensorflow:From /usr/local/lib/python3.6/dist-packages/keras/backend/tensorflow_backend.py:541: The name tf.placeholder is deprecated. Please use tf.compat.v1.placeholder instead.\n",
            "\n",
            "WARNING:tensorflow:From /usr/local/lib/python3.6/dist-packages/keras/backend/tensorflow_backend.py:4432: The name tf.random_uniform is deprecated. Please use tf.random.uniform instead.\n",
            "\n",
            "WARNING:tensorflow:From /usr/local/lib/python3.6/dist-packages/keras/backend/tensorflow_backend.py:4267: The name tf.nn.max_pool is deprecated. Please use tf.nn.max_pool2d instead.\n",
            "\n",
            "Downloading data from https://github.com/fchollet/deep-learning-models/releases/download/v0.1/vgg16_weights_tf_dim_ordering_tf_kernels_notop.h5\n",
            "58892288/58889256 [==============================] - 1s 0us/step\n",
            "WARNING:tensorflow:From /usr/local/lib/python3.6/dist-packages/keras/backend/tensorflow_backend.py:190: The name tf.get_default_session is deprecated. Please use tf.compat.v1.get_default_session instead.\n",
            "\n",
            "WARNING:tensorflow:From /usr/local/lib/python3.6/dist-packages/keras/backend/tensorflow_backend.py:197: The name tf.ConfigProto is deprecated. Please use tf.compat.v1.ConfigProto instead.\n",
            "\n",
            "WARNING:tensorflow:From /usr/local/lib/python3.6/dist-packages/keras/backend/tensorflow_backend.py:203: The name tf.Session is deprecated. Please use tf.compat.v1.Session instead.\n",
            "\n",
            "WARNING:tensorflow:From /usr/local/lib/python3.6/dist-packages/keras/backend/tensorflow_backend.py:207: The name tf.global_variables is deprecated. Please use tf.compat.v1.global_variables instead.\n",
            "\n",
            "WARNING:tensorflow:From /usr/local/lib/python3.6/dist-packages/keras/backend/tensorflow_backend.py:216: The name tf.is_variable_initialized is deprecated. Please use tf.compat.v1.is_variable_initialized instead.\n",
            "\n",
            "WARNING:tensorflow:From /usr/local/lib/python3.6/dist-packages/keras/backend/tensorflow_backend.py:223: The name tf.variables_initializer is deprecated. Please use tf.compat.v1.variables_initializer instead.\n",
            "\n"
          ],
          "name": "stdout"
        }
      ]
    },
    {
      "cell_type": "code",
      "metadata": {
        "id": "x93-VikLMYDe",
        "colab_type": "code",
        "colab": {}
      },
      "source": [
        "train_images = train_images\n",
        "train_labels = train_labels\n",
        "\n",
        "train_images = train_images.reshape((50000, 32, 32, 3))\n",
        "train_images = train_images.astype('float32') / 255\n",
        "\n",
        "validation_images = train_images[25000:]\n",
        "train_images = train_images[:25000]\n",
        "\n",
        "test_images = test_images.reshape((10000, 32, 32, 3))\n",
        "test_images = test_images.astype('float32') / 255\n",
        "\n",
        "train_labels = to_categorical(train_labels)\n",
        "validation_labels = train_labels[25000:]\n",
        "train_labels = train_labels[:25000]\n",
        "test_labels = to_categorical(test_labels)"
      ],
      "execution_count": 0,
      "outputs": []
    },
    {
      "cell_type": "code",
      "metadata": {
        "id": "0GUFopfPMbAn",
        "colab_type": "code",
        "colab": {
          "base_uri": "https://localhost:8080/",
          "height": 241
        },
        "outputId": "f9908d01-8842-42e5-d961-a7fec125b597"
      },
      "source": [
        "from keras import optimizers\n",
        "\n",
        "sgd = optimizers.SGD(lr=0.0095, decay=1e-6, momentum=0.9, nesterov=True)\n",
        "\n",
        "model = models.Sequential()\n",
        "model.add(conv_base)\n",
        "model.add(layers.Flatten())\n",
        "model.add(layers.Dense(256, activation='relu'))\n",
        "model.add(layers.Dropout(0.1, noise_shape=None, seed=None))\n",
        "model.add(layers.Dense(512, activation='relu'))\n",
        "model.add(layers.Dropout(0.1, noise_shape=None, seed=None))\n",
        "model.add(layers.Dense(1024, activation='relu'))\n",
        "model.add(layers.Dense(512, activation='selu'))\n",
        "model.add(layers.Dense(10, activation='softmax'))\n",
        "model.compile(optimizer=sgd,\n",
        "              loss='categorical_crossentropy',\n",
        "              metrics=['accuracy'])"
      ],
      "execution_count": 4,
      "outputs": [
        {
          "output_type": "stream",
          "text": [
            "WARNING:tensorflow:From /usr/local/lib/python3.6/dist-packages/keras/backend/tensorflow_backend.py:148: The name tf.placeholder_with_default is deprecated. Please use tf.compat.v1.placeholder_with_default instead.\n",
            "\n",
            "WARNING:tensorflow:From /usr/local/lib/python3.6/dist-packages/keras/backend/tensorflow_backend.py:3733: calling dropout (from tensorflow.python.ops.nn_ops) with keep_prob is deprecated and will be removed in a future version.\n",
            "Instructions for updating:\n",
            "Please use `rate` instead of `keep_prob`. Rate should be set to `rate = 1 - keep_prob`.\n",
            "WARNING:tensorflow:From /usr/local/lib/python3.6/dist-packages/keras/backend/tensorflow_backend.py:3492: where (from tensorflow.python.ops.array_ops) is deprecated and will be removed in a future version.\n",
            "Instructions for updating:\n",
            "Use tf.where in 2.0, which has the same broadcast rule as np.where\n",
            "WARNING:tensorflow:From /usr/local/lib/python3.6/dist-packages/keras/optimizers.py:793: The name tf.train.Optimizer is deprecated. Please use tf.compat.v1.train.Optimizer instead.\n",
            "\n",
            "WARNING:tensorflow:From /usr/local/lib/python3.6/dist-packages/keras/backend/tensorflow_backend.py:3576: The name tf.log is deprecated. Please use tf.math.log instead.\n",
            "\n"
          ],
          "name": "stdout"
        }
      ]
    },
    {
      "cell_type": "code",
      "metadata": {
        "id": "-qjscSvKMkEG",
        "colab_type": "code",
        "colab": {
          "base_uri": "https://localhost:8080/",
          "height": 459
        },
        "outputId": "9cd49873-70be-46ab-c528-86e78b6740cb"
      },
      "source": [
        "model.summary()"
      ],
      "execution_count": 5,
      "outputs": [
        {
          "output_type": "stream",
          "text": [
            "Model: \"sequential_1\"\n",
            "_________________________________________________________________\n",
            "Layer (type)                 Output Shape              Param #   \n",
            "=================================================================\n",
            "vgg16 (Model)                (None, 1, 1, 512)         14714688  \n",
            "_________________________________________________________________\n",
            "flatten_1 (Flatten)          (None, 512)               0         \n",
            "_________________________________________________________________\n",
            "dense_1 (Dense)              (None, 256)               131328    \n",
            "_________________________________________________________________\n",
            "dropout_1 (Dropout)          (None, 256)               0         \n",
            "_________________________________________________________________\n",
            "dense_2 (Dense)              (None, 512)               131584    \n",
            "_________________________________________________________________\n",
            "dropout_2 (Dropout)          (None, 512)               0         \n",
            "_________________________________________________________________\n",
            "dense_3 (Dense)              (None, 1024)              525312    \n",
            "_________________________________________________________________\n",
            "dense_4 (Dense)              (None, 512)               524800    \n",
            "_________________________________________________________________\n",
            "dense_5 (Dense)              (None, 10)                5130      \n",
            "=================================================================\n",
            "Total params: 16,032,842\n",
            "Trainable params: 16,032,842\n",
            "Non-trainable params: 0\n",
            "_________________________________________________________________\n"
          ],
          "name": "stdout"
        }
      ]
    },
    {
      "cell_type": "code",
      "metadata": {
        "id": "lRzOyspCMl8l",
        "colab_type": "code",
        "colab": {}
      },
      "source": [
        "conv_base.trainable = False"
      ],
      "execution_count": 0,
      "outputs": []
    },
    {
      "cell_type": "code",
      "metadata": {
        "id": "3eiVNfp-Mokc",
        "colab_type": "code",
        "colab": {
          "base_uri": "https://localhost:8080/",
          "height": 1000
        },
        "outputId": "c0fe4c8b-50e8-426d-f1d1-74d9ddd4a8e1"
      },
      "source": [
        "model_hist = model.fit(train_images, train_labels,\n",
        "          epochs=25, \n",
        "          batch_size=256,\n",
        "          validation_data=(validation_images, validation_labels))"
      ],
      "execution_count": 7,
      "outputs": [
        {
          "output_type": "stream",
          "text": [
            "/usr/local/lib/python3.6/dist-packages/keras/engine/training.py:493: UserWarning: Discrepancy between trainable weights and collected trainable weights, did you set `model.trainable` without calling `model.compile` after ?\n",
            "  'Discrepancy between trainable weights and collected trainable'\n"
          ],
          "name": "stderr"
        },
        {
          "output_type": "stream",
          "text": [
            "WARNING:tensorflow:From /usr/local/lib/python3.6/dist-packages/keras/backend/tensorflow_backend.py:1033: The name tf.assign_add is deprecated. Please use tf.compat.v1.assign_add instead.\n",
            "\n",
            "WARNING:tensorflow:From /usr/local/lib/python3.6/dist-packages/keras/backend/tensorflow_backend.py:1020: The name tf.assign is deprecated. Please use tf.compat.v1.assign instead.\n",
            "\n",
            "Train on 25000 samples, validate on 25000 samples\n",
            "Epoch 1/25\n",
            "25000/25000 [==============================] - 35s 1ms/step - loss: 1.8310 - acc: 0.3444 - val_loss: 1.1930 - val_acc: 0.5729\n",
            "Epoch 2/25\n",
            "25000/25000 [==============================] - 26s 1ms/step - loss: 1.0351 - acc: 0.6437 - val_loss: 0.9270 - val_acc: 0.6836\n",
            "Epoch 3/25\n",
            "25000/25000 [==============================] - 26s 1ms/step - loss: 0.6661 - acc: 0.7730 - val_loss: 0.6882 - val_acc: 0.7678\n",
            "Epoch 4/25\n",
            "25000/25000 [==============================] - 26s 1ms/step - loss: 0.4911 - acc: 0.8353 - val_loss: 0.5926 - val_acc: 0.8021\n",
            "Epoch 5/25\n",
            "25000/25000 [==============================] - 26s 1ms/step - loss: 0.3751 - acc: 0.8721 - val_loss: 0.6240 - val_acc: 0.7922\n",
            "Epoch 6/25\n",
            "25000/25000 [==============================] - 26s 1ms/step - loss: 0.2926 - acc: 0.9028 - val_loss: 0.5325 - val_acc: 0.8293\n",
            "Epoch 7/25\n",
            "25000/25000 [==============================] - 26s 1ms/step - loss: 0.2042 - acc: 0.9324 - val_loss: 0.5913 - val_acc: 0.8250\n",
            "Epoch 8/25\n",
            "25000/25000 [==============================] - 26s 1ms/step - loss: 0.1662 - acc: 0.9444 - val_loss: 0.6366 - val_acc: 0.8231\n",
            "Epoch 9/25\n",
            "25000/25000 [==============================] - 26s 1ms/step - loss: 0.1192 - acc: 0.9604 - val_loss: 0.6753 - val_acc: 0.8216\n",
            "Epoch 10/25\n",
            "25000/25000 [==============================] - 26s 1ms/step - loss: 0.0881 - acc: 0.9714 - val_loss: 0.7882 - val_acc: 0.8120\n",
            "Epoch 11/25\n",
            "25000/25000 [==============================] - 26s 1ms/step - loss: 0.0617 - acc: 0.9804 - val_loss: 0.8051 - val_acc: 0.8152\n",
            "Epoch 12/25\n",
            "25000/25000 [==============================] - 26s 1ms/step - loss: 0.0617 - acc: 0.9791 - val_loss: 0.7252 - val_acc: 0.8335\n",
            "Epoch 13/25\n",
            "25000/25000 [==============================] - 26s 1ms/step - loss: 0.0569 - acc: 0.9814 - val_loss: 0.7730 - val_acc: 0.8318\n",
            "Epoch 14/25\n",
            "25000/25000 [==============================] - 26s 1ms/step - loss: 0.0459 - acc: 0.9846 - val_loss: 0.9283 - val_acc: 0.8102\n",
            "Epoch 15/25\n",
            "25000/25000 [==============================] - 26s 1ms/step - loss: 0.0454 - acc: 0.9842 - val_loss: 0.9822 - val_acc: 0.8078\n",
            "Epoch 16/25\n",
            "25000/25000 [==============================] - 26s 1ms/step - loss: 0.0485 - acc: 0.9836 - val_loss: 0.7934 - val_acc: 0.8287\n",
            "Epoch 17/25\n",
            "25000/25000 [==============================] - 26s 1ms/step - loss: 0.0316 - acc: 0.9901 - val_loss: 0.8274 - val_acc: 0.8353\n",
            "Epoch 18/25\n",
            "25000/25000 [==============================] - 26s 1ms/step - loss: 0.0298 - acc: 0.9904 - val_loss: 0.8919 - val_acc: 0.8278\n",
            "Epoch 19/25\n",
            "25000/25000 [==============================] - 26s 1ms/step - loss: 0.0278 - acc: 0.9907 - val_loss: 0.8733 - val_acc: 0.8322\n",
            "Epoch 20/25\n",
            "25000/25000 [==============================] - 26s 1ms/step - loss: 0.0244 - acc: 0.9922 - val_loss: 0.8631 - val_acc: 0.8310\n",
            "Epoch 21/25\n",
            "25000/25000 [==============================] - 26s 1ms/step - loss: 0.0211 - acc: 0.9932 - val_loss: 0.8992 - val_acc: 0.8364\n",
            "Epoch 22/25\n",
            "25000/25000 [==============================] - 26s 1ms/step - loss: 0.0161 - acc: 0.9952 - val_loss: 0.8889 - val_acc: 0.8383\n",
            "Epoch 23/25\n",
            "25000/25000 [==============================] - 26s 1ms/step - loss: 0.0183 - acc: 0.9938 - val_loss: 0.9477 - val_acc: 0.8320\n",
            "Epoch 24/25\n",
            "25000/25000 [==============================] - 26s 1ms/step - loss: 0.0291 - acc: 0.9916 - val_loss: 0.8198 - val_acc: 0.8419\n",
            "Epoch 25/25\n",
            "25000/25000 [==============================] - 26s 1ms/step - loss: 0.0140 - acc: 0.9954 - val_loss: 0.8597 - val_acc: 0.8447\n"
          ],
          "name": "stdout"
        }
      ]
    },
    {
      "cell_type": "code",
      "metadata": {
        "id": "e8Fcnq0BPas3",
        "colab_type": "code",
        "colab": {
          "base_uri": "https://localhost:8080/",
          "height": 68
        },
        "outputId": "23466e58-5811-4341-921d-386833a15642"
      },
      "source": [
        "test_loss, test_acc = model.evaluate(test_images, test_labels)\n",
        "print('test_acc:', test_acc)\n",
        "print('test_loss:', test_loss)"
      ],
      "execution_count": 8,
      "outputs": [
        {
          "output_type": "stream",
          "text": [
            "10000/10000 [==============================] - 7s 653us/step\n",
            "test_acc: 0.8389\n",
            "test_loss: 0.8845592962026596\n"
          ],
          "name": "stdout"
        }
      ]
    },
    {
      "cell_type": "code",
      "metadata": {
        "id": "EISAOBBIPfyq",
        "colab_type": "code",
        "colab": {
          "base_uri": "https://localhost:8080/",
          "height": 279
        },
        "outputId": "59fa31f4-cd34-455f-bfd2-a6f4ed8815f5"
      },
      "source": [
        "import matplotlib.pyplot as plt\n",
        "\n",
        "epochs = range(0, 25)\n",
        "train_loss = model_hist.history['loss']\n",
        "val_loss= model_hist.history['val_loss']\n",
        "\n",
        "plt.plot(epochs, val_loss, 'b+', label='Validation')\n",
        "plt.plot(epochs, train_loss, 'bo', label='training')\n",
        "plt.xlabel('Epochs')\n",
        "plt.ylabel('Validation loss')\n",
        "plt.legend()\n",
        "\n",
        "plt.show()"
      ],
      "execution_count": 9,
      "outputs": [
        {
          "output_type": "display_data",
          "data": {
            "image/png": "[encoded data removed]",
            "text/plain": [
              "<Figure size 432x288 with 1 Axes>"
            ]
          },
          "metadata": {
            "tags": []
          }
        }
      ]
    },
    {
      "cell_type": "code",
      "metadata": {
        "id": "VTgN5yTVPq-L",
        "colab_type": "code",
        "colab": {}
      },
      "source": [
        "model.save_weights('./cifar10_pretrained.h5', overwrite=True)"
      ],
      "execution_count": 0,
      "outputs": []
    }
  ]
}