{
 "cells": [
  {
   "cell_type": "markdown",
   "metadata": {
    "colab_type": "text",
    "id": "kVclo602PoY0"
   },
   "source": [
    "<h3>  &nbsp;&nbsp;Train on GPU&nbsp;&nbsp; <a href=\"https://cloud.google.com/tpu/\"><img valign=\"middle\" src=\"https://raw.githubusercontent.com/GoogleCloudPlatform/tensorflow-without-a-phd/master/tensorflow-rl-pong/images/tpu-hexagon.png\" width=\"50\"></a></h3>\n",
    "\n",
    "1. On the main menu, click Runtime and select **Change runtime type**. Set \"GPU\" as the hardware accelerator.\n",
    "1. Click Runtime again and select **Runtime > Run All**. You can also run the cells manually with Shift-ENTER. "
   ]
  },
  {
   "cell_type": "code",
   "execution_count": 1,
   "metadata": {
    "colab": {
     "base_uri": "https://localhost:8080/",
     "height": 97
    },
    "colab_type": "code",
    "id": "Djq5H5QSK6hc",
    "outputId": "795e4200-216c-4099-b603-27d6325859c0"
   },
   "outputs": [
    {
     "name": "stderr",
     "output_type": "stream",
     "text": [
      "Using TensorFlow backend.\n"
     ]
    },
    {
     "data": {
      "text/plain": [
       "'2.3.1'"
      ]
     },
     "execution_count": 1,
     "metadata": {},
     "output_type": "execute_result"
    }
   ],
   "source": [
    "import keras\n",
    "keras.__version__"
   ]
  },
  {
   "cell_type": "code",
   "execution_count": 2,
   "metadata": {
    "colab": {},
    "colab_type": "code",
    "id": "cLjbWVSwLRAM"
   },
   "outputs": [],
   "source": [
    "from keras import layers\n",
    "from keras import models\n",
    "from keras.datasets import cifar10\n",
    "from keras.utils import to_categorical\n",
    "\n",
    "(train_images, train_labels), (test_images, test_labels) = cifar10.load_data()"
   ]
  },
  {
   "cell_type": "code",
   "execution_count": 3,
   "metadata": {
    "colab": {
     "base_uri": "https://localhost:8080/",
     "height": 266
    },
    "colab_type": "code",
    "id": "f1l1_b4FLnAx",
    "outputId": "ec9566b2-afb3-4d48-db7f-06289b76fb13",
    "scrolled": true
   },
   "outputs": [
    {
     "data": {
      "image/png": "[encoded data removed]",
      "text/plain": [
       "<Figure size 432x288 with 1 Axes>"
      ]
     },
     "metadata": {
      "needs_background": "light"
     },
     "output_type": "display_data"
    }
   ],
   "source": [
    "import matplotlib.pyplot as plt\n",
    "%matplotlib inline\n",
    "\n",
    "digit = train_images[4]\n",
    "plt.imshow(digit, cmap=plt.cm.binary)\n",
    "\n",
    "plt.show()"
   ]
  },
  {
   "cell_type": "code",
   "execution_count": 4,
   "metadata": {},
   "outputs": [
    {
     "name": "stdout",
     "output_type": "stream",
     "text": [
      "(50000, 32, 32, 3)\n",
      "(10000, 32, 32, 3)\n"
     ]
    }
   ],
   "source": [
    "print(train_images.shape)\n",
    "print(test_images.shape)"
   ]
  },
  {
   "cell_type": "code",
   "execution_count": 5,
   "metadata": {
    "colab": {},
    "colab_type": "code",
    "id": "76yjbnbJLjsk"
   },
   "outputs": [],
   "source": [
    "train_images = train_images\n",
    "train_labels = train_labels\n",
    "\n",
    "train_images = train_images.reshape((50000, 32, 32, 3))\n",
    "train_images = train_images.astype('float32') / 255\n",
    "\n",
    "validation_images = train_images[25000:]\n",
    "train_images = train_images[:25000]\n",
    "\n",
    "test_images = test_images.reshape((10000, 32, 32, 3))\n",
    "test_images = test_images.astype('float32') / 255\n",
    "\n",
    "train_labels = to_categorical(train_labels)\n",
    "validation_labels = train_labels[25000:]\n",
    "train_labels = train_labels[:25000]\n",
    "test_labels = to_categorical(test_labels)"
   ]
  },
  {
   "cell_type": "code",
   "execution_count": 6,
   "metadata": {
    "colab": {},
    "colab_type": "code",
    "id": "rIJilTuvRnDY"
   },
   "outputs": [],
   "source": [
    "from keras import optimizers\n",
    "\n",
    "sgd = optimizers.SGD(lr=0.0095, decay=1e-6, momentum=0.9, nesterov=True)\n",
    "\n",
    "model = models.Sequential()\n",
    "model.add(layers.Conv2D(32, (3,3), activation='relu', input_shape=(32, 32, 3)))\n",
    "model.add(layers.MaxPooling2D((3, 3)))\n",
    "model.add(layers.Conv2D(64, (3, 3), activation='relu'))\n",
    "model.add(layers.Dropout(0.1, noise_shape=None, seed=None))\n",
    "model.add(layers.MaxPooling2D((2, 2)))\n",
    "model.add(layers.Conv2D(128, (3, 3), activation='selu'))\n",
    "model.add(layers.Dropout(0.1, noise_shape=None, seed=None))\n",
    "model.add(layers.Flatten())\n",
    "model.add(layers.Dense(256, activation='relu'))\n",
    "model.add(layers.Dropout(0.1, noise_shape=None, seed=None))\n",
    "model.add(layers.Dense(512, activation='relu'))\n",
    "model.add(layers.Dropout(0.1, noise_shape=None, seed=None))\n",
    "model.add(layers.Dense(1024, activation='relu'))\n",
    "model.add(layers.Dense(512, activation='selu'))\n",
    "model.add(layers.Dense(10, activation='softmax'))\n",
    "model.compile(optimizer=sgd,\n",
    "              loss='categorical_crossentropy',\n",
    "              metrics=['accuracy'])"
   ]
  },
  {
   "cell_type": "code",
   "execution_count": 7,
   "metadata": {
    "colab": {
     "base_uri": "https://localhost:8080/",
     "height": 357
    },
    "colab_type": "code",
    "id": "Lr0xkEliYc-6",
    "outputId": "8b8c6f3b-6fe6-4219-f82f-d7be3005e5de"
   },
   "outputs": [
    {
     "name": "stdout",
     "output_type": "stream",
     "text": [
      "Model: \"sequential_1\"\n",
      "_________________________________________________________________\n",
      "Layer (type)                 Output Shape              Param #   \n",
      "=================================================================\n",
      "conv2d_1 (Conv2D)            (None, 30, 30, 32)        896       \n",
      "_________________________________________________________________\n",
      "max_pooling2d_1 (MaxPooling2 (None, 10, 10, 32)        0         \n",
      "_________________________________________________________________\n",
      "conv2d_2 (Conv2D)            (None, 8, 8, 64)          18496     \n",
      "_________________________________________________________________\n",
      "dropout_1 (Dropout)          (None, 8, 8, 64)          0         \n",
      "_________________________________________________________________\n",
      "max_pooling2d_2 (MaxPooling2 (None, 4, 4, 64)          0         \n",
      "_________________________________________________________________\n",
      "conv2d_3 (Conv2D)            (None, 2, 2, 128)         73856     \n",
      "_________________________________________________________________\n",
      "dropout_2 (Dropout)          (None, 2, 2, 128)         0         \n",
      "_________________________________________________________________\n",
      "flatten_1 (Flatten)          (None, 512)               0         \n",
      "_________________________________________________________________\n",
      "dense_1 (Dense)              (None, 256)               131328    \n",
      "_________________________________________________________________\n",
      "dropout_3 (Dropout)          (None, 256)               0         \n",
      "_________________________________________________________________\n",
      "dense_2 (Dense)              (None, 512)               131584    \n",
      "_________________________________________________________________\n",
      "dropout_4 (Dropout)          (None, 512)               0         \n",
      "_________________________________________________________________\n",
      "dense_3 (Dense)              (None, 1024)              525312    \n",
      "_________________________________________________________________\n",
      "dense_4 (Dense)              (None, 512)               524800    \n",
      "_________________________________________________________________\n",
      "dense_5 (Dense)              (None, 10)                5130      \n",
      "=================================================================\n",
      "Total params: 1,411,402\n",
      "Trainable params: 1,411,402\n",
      "Non-trainable params: 0\n",
      "_________________________________________________________________\n"
     ]
    }
   ],
   "source": [
    "model.summary()"
   ]
  },
  {
   "cell_type": "code",
   "execution_count": 8,
   "metadata": {
    "colab": {
     "base_uri": "https://localhost:8080/",
     "height": 714
    },
    "colab_type": "code",
    "id": "pdgz18QPNOVr",
    "outputId": "1775b09f-be46-46c4-bf2a-2f5fc62fc327",
    "scrolled": false
   },
   "outputs": [
    {
     "name": "stdout",
     "output_type": "stream",
     "text": [
      "Train on 25000 samples, validate on 25000 samples\n",
      "Epoch 1/25\n",
      "25000/25000 [==============================] - 22s 885us/step - loss: 2.1955 - accuracy: 0.1823 - val_loss: 2.0459 - val_accuracy: 0.2393\n",
      "Epoch 2/25\n",
      "25000/25000 [==============================] - 22s 877us/step - loss: 1.8551 - accuracy: 0.3249 - val_loss: 1.6552 - val_accuracy: 0.3993\n",
      "Epoch 3/25\n",
      "25000/25000 [==============================] - 22s 879us/step - loss: 1.6080 - accuracy: 0.4162 - val_loss: 1.5470 - val_accuracy: 0.4343\n",
      "Epoch 4/25\n",
      "25000/25000 [==============================] - 22s 883us/step - loss: 1.4850 - accuracy: 0.4631 - val_loss: 1.4251 - val_accuracy: 0.4720\n",
      "Epoch 5/25\n",
      "25000/25000 [==============================] - 22s 881us/step - loss: 1.3588 - accuracy: 0.5098 - val_loss: 1.2851 - val_accuracy: 0.5357\n",
      "Epoch 6/25\n",
      "25000/25000 [==============================] - 22s 877us/step - loss: 1.2765 - accuracy: 0.5406 - val_loss: 1.2606 - val_accuracy: 0.5472\n",
      "Epoch 7/25\n",
      "25000/25000 [==============================] - 22s 879us/step - loss: 1.2063 - accuracy: 0.5680 - val_loss: 1.1725 - val_accuracy: 0.5751\n",
      "Epoch 8/25\n",
      "25000/25000 [==============================] - 23s 913us/step - loss: 1.1402 - accuracy: 0.5892 - val_loss: 1.1269 - val_accuracy: 0.5978\n",
      "Epoch 9/25\n",
      "25000/25000 [==============================] - 22s 880us/step - loss: 1.0824 - accuracy: 0.6168 - val_loss: 1.0709 - val_accuracy: 0.6195\n",
      "Epoch 10/25\n",
      "25000/25000 [==============================] - 22s 886us/step - loss: 1.0427 - accuracy: 0.6265 - val_loss: 1.0880 - val_accuracy: 0.6124\n",
      "Epoch 11/25\n",
      "25000/25000 [==============================] - 22s 890us/step - loss: 0.9876 - accuracy: 0.6457 - val_loss: 1.0101 - val_accuracy: 0.6407\n",
      "Epoch 12/25\n",
      "25000/25000 [==============================] - 22s 884us/step - loss: 0.9414 - accuracy: 0.6640 - val_loss: 1.0156 - val_accuracy: 0.6405\n",
      "Epoch 13/25\n",
      "25000/25000 [==============================] - 22s 884us/step - loss: 0.9115 - accuracy: 0.6751 - val_loss: 1.0511 - val_accuracy: 0.6273\n",
      "Epoch 14/25\n",
      "25000/25000 [==============================] - 22s 884us/step - loss: 0.8678 - accuracy: 0.6936 - val_loss: 1.0392 - val_accuracy: 0.6383\n",
      "Epoch 15/25\n",
      "25000/25000 [==============================] - 22s 885us/step - loss: 0.8318 - accuracy: 0.7048 - val_loss: 0.9678 - val_accuracy: 0.6589\n",
      "Epoch 16/25\n",
      "25000/25000 [==============================] - 22s 895us/step - loss: 0.7992 - accuracy: 0.7172 - val_loss: 0.9419 - val_accuracy: 0.6702\n",
      "Epoch 17/25\n",
      "25000/25000 [==============================] - 22s 888us/step - loss: 0.7718 - accuracy: 0.7222 - val_loss: 0.9363 - val_accuracy: 0.6730\n",
      "Epoch 18/25\n",
      "25000/25000 [==============================] - 22s 892us/step - loss: 0.7460 - accuracy: 0.7347 - val_loss: 0.9079 - val_accuracy: 0.6823\n",
      "Epoch 19/25\n",
      "25000/25000 [==============================] - 22s 887us/step - loss: 0.7104 - accuracy: 0.7452 - val_loss: 0.9362 - val_accuracy: 0.6833\n",
      "Epoch 20/25\n",
      "25000/25000 [==============================] - 22s 896us/step - loss: 0.6821 - accuracy: 0.7596 - val_loss: 0.8949 - val_accuracy: 0.6916\n",
      "Epoch 21/25\n",
      "25000/25000 [==============================] - 22s 890us/step - loss: 0.6599 - accuracy: 0.7652 - val_loss: 0.8863 - val_accuracy: 0.6947\n",
      "Epoch 22/25\n",
      "25000/25000 [==============================] - 22s 887us/step - loss: 0.6281 - accuracy: 0.7754 - val_loss: 0.8956 - val_accuracy: 0.6952\n",
      "Epoch 23/25\n",
      "25000/25000 [==============================] - 22s 887us/step - loss: 0.6096 - accuracy: 0.7820 - val_loss: 0.8742 - val_accuracy: 0.7010\n",
      "Epoch 24/25\n",
      "25000/25000 [==============================] - 22s 889us/step - loss: 0.5849 - accuracy: 0.7928 - val_loss: 0.8697 - val_accuracy: 0.7066\n",
      "Epoch 25/25\n",
      "25000/25000 [==============================] - 22s 892us/step - loss: 0.5535 - accuracy: 0.8046 - val_loss: 0.8819 - val_accuracy: 0.7084\n"
     ]
    }
   ],
   "source": [
    "model_hist = model.fit(train_images, train_labels,\n",
    "          epochs=25, \n",
    "          batch_size=256,\n",
    "          validation_data=(validation_images, validation_labels))"
   ]
  },
  {
   "cell_type": "code",
   "execution_count": 9,
   "metadata": {},
   "outputs": [
    {
     "name": "stdout",
     "output_type": "stream",
     "text": [
      "10000/10000 [==============================] - 3s 282us/step\n",
      "test_acc: 0.7087000012397766\n",
      "test_loss: 0.8780906546592713\n"
     ]
    }
   ],
   "source": [
    "test_loss, test_acc = model.evaluate(test_images, test_labels)\n",
    "print('test_acc:', test_acc)\n",
    "print('test_loss:', test_loss)\n"
   ]
  },
  {
   "cell_type": "code",
   "execution_count": 10,
   "metadata": {
    "colab": {
     "base_uri": "https://localhost:8080/",
     "height": 279
    },
    "colab_type": "code",
    "id": "AK7GvOCaUwp9",
    "outputId": "2eeed805-5049-4e46-cc80-f3ff85a72fce"
   },
   "outputs": [
    {
     "data": {
      "image/png": "[encoded data removed]",
      "text/plain": [
       "<Figure size 432x288 with 1 Axes>"
      ]
     },
     "metadata": {
      "needs_background": "light"
     },
     "output_type": "display_data"
    }
   ],
   "source": [
    "import matplotlib.pyplot as plt\n",
    "\n",
    "epochs = range(0, 25)\n",
    "train_loss = model_hist.history['loss']\n",
    "val_loss= model_hist.history['val_loss']\n",
    "\n",
    "plt.plot(epochs, val_loss, 'b+', label='Validation')\n",
    "plt.plot(epochs, train_loss, 'bo', label='training')\n",
    "plt.xlabel('Epochs')\n",
    "plt.ylabel('Validation loss')\n",
    "plt.legend()\n",
    "\n",
    "plt.show()"
   ]
  },
  {
   "cell_type": "code",
   "execution_count": 11,
   "metadata": {
    "colab": {
     "base_uri": "https://localhost:8080/",
     "height": 68
    },
    "colab_type": "code",
    "id": "ZSr5gnDLNRo7",
    "outputId": "b0c2ffb1-5a3f-424f-86d0-f7e9fb4a656b"
   },
   "outputs": [
    {
     "name": "stdout",
     "output_type": "stream",
     "text": [
      "10000/10000 [==============================] - 3s 291us/step\n",
      "test_acc: 0.7087000012397766\n"
     ]
    },
    {
     "data": {
      "text/plain": [
       "0.8780906546592713"
      ]
     },
     "execution_count": 11,
     "metadata": {},
     "output_type": "execute_result"
    }
   ],
   "source": [
    "test_loss, test_acc = model.evaluate(test_images, test_labels)\n",
    "print('test_acc:', test_acc)\n",
    "test_loss"
   ]
  },
  {
   "cell_type": "code",
   "execution_count": 12,
   "metadata": {
    "colab": {},
    "colab_type": "code",
    "id": "e9SeN6QOO77D"
   },
   "outputs": [],
   "source": [
    "model.save_weights('./cifar10.h5', overwrite=True)"
   ]
  }
 ],
 "metadata": {
  "accelerator": "GPU",
  "colab": {
   "collapsed_sections": [],
   "name": "CIFAR10.ipynb",
   "provenance": []
  },
  "kernelspec": {
   "display_name": "Python 3",
   "language": "python",
   "name": "python3"
  },
  "language_info": {
   "codemirror_mode": {
    "name": "ipython",
    "version": 3
   },
   "file_extension": ".py",
   "mimetype": "text/x-python",
   "name": "python",
   "nbconvert_exporter": "python",
   "pygments_lexer": "ipython3",
   "version": "3.7.3"
  }
 },
 "nbformat": 4,
 "nbformat_minor": 1
}
